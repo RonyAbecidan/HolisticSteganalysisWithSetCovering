{
 "cells": [
  {
   "cell_type": "code",
   "execution_count": 4,
   "metadata": {},
   "outputs": [],
   "source": [
    "%load_ext autoreload\n",
    "%autoreload 2\n",
    "\n",
    "import yaml\n",
    "import shutil \n",
    "import os\n",
    "from pathlib import Path\n",
    "from munch import DefaultMunch\n",
    "from copy import deepcopy\n",
    "from develop import *\n"
   ]
  },
  {
   "cell_type": "code",
   "execution_count": 15,
   "metadata": {},
   "outputs": [],
   "source": [
    "config=yaml.safe_load(Path('./example.yaml').read_text())\n",
    "config = DefaultMunch.fromDict(config)\n",
    "yaml_to_rt_pipeline(config.Pipeline,filename='Example')"
   ]
  }
 ],
 "metadata": {
  "kernelspec": {
   "display_name": "Python 3.9.7 ('uda')",
   "language": "python",
   "name": "python3"
  },
  "language_info": {
   "codemirror_mode": {
    "name": "ipython",
    "version": 3
   },
   "file_extension": ".py",
   "mimetype": "text/x-python",
   "name": "python",
   "nbconvert_exporter": "python",
   "pygments_lexer": "ipython3",
   "version": "3.9.7"
  },
  "orig_nbformat": 4,
  "vscode": {
   "interpreter": {
    "hash": "5de86e76d3d193740a00514775138c19ee2c7ce1035423d57a2a273a7c3934eb"
   }
  }
 },
 "nbformat": 4,
 "nbformat_minor": 2
}
