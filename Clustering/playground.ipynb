{
 "cells": [
  {
   "cell_type": "code",
   "execution_count": 154,
   "id": "758abcb5-012c-4b15-b4fd-f8956bc6eb05",
   "metadata": {},
   "outputs": [
    {
     "name": "stdout",
     "output_type": "stream",
     "text": [
      "The autoreload extension is already loaded. To reload it, use:\n",
      "  %reload_ext autoreload\n"
     ]
    }
   ],
   "source": [
    "%load_ext autoreload\n",
    "%autoreload 2\n",
    "\n",
    "import pandas as pd\n",
    "from source_clustering import *\n",
    "from utils import *\n",
    "import warnings\n",
    "warnings.filterwarnings('ignore')\n",
    "%config InlineBackend.figure_format = 'svg'"
   ]
  },
  {
   "cell_type": "markdown",
   "id": "6d29009c",
   "metadata": {},
   "source": [
    "# Playground Notebook for the article :\n",
    "\n",
    "## \"Using Set Covering to Generate Databases for Holistic Steganalysis\"\n",
    "\n",
    "Through this notebook you will discover how to derive useful information from a PE matrix like we did for our experiments.\n",
    "\n",
    "As a starting point, you can use the PE matrix we obtained following the protocol in the Section II of our article called ```CSM_Matrix_1.5bpp.txt``` .\n",
    "\n",
    "The sources were built developing the 1115 RAW images in the file ```RAW_DATABASE.csv``` following the pipelines listed in ```pipelines.csv```.\n",
    "\n",
    "### I - Let's play with the PE Matrix\n",
    "\n",
    "\n",
    "To be able to use our methods, start to load your matrix with ```np.loadtxt``` and use it to initialize an object from the ```CSM``` class \n"
   ]
  },
  {
   "cell_type": "code",
   "execution_count": 4,
   "id": "9b216f45-e0a7-4da6-b9af-b39b21b95e47",
   "metadata": {},
   "outputs": [],
   "source": [
    "csm_study=CSM(np.loadtxt('../CSM_Matrix_1.5bpp.txt',delimiter=','))"
   ]
  },
  {
   "cell_type": "markdown",
   "id": "9f693cb3",
   "metadata": {},
   "source": [
    "The matrix provided will be load in the attribute ```csm_matrix``` of your instance.\n",
    "\n",
    "You can for example reproduce our first table with the following command : "
   ]
  },
  {
   "cell_type": "code",
   "execution_count": 136,
   "id": "5b1d99a7",
   "metadata": {},
   "outputs": [
    {
     "data": {
      "text/plain": [
       "array([[ 5.03, 77.38],\n",
       "       [47.76,  0.18]])"
      ]
     },
     "execution_count": 136,
     "metadata": {},
     "output_type": "execute_result"
    }
   ],
   "source": [
    "csm_study.csm_matrix[[5,167],:][:,[5,167]]"
   ]
  },
  {
   "cell_type": "markdown",
   "id": "4a23bcd1",
   "metadata": {},
   "source": [
    "You can also get access to the regret matrix pretty easily using the attribute ```regret_matrix``` of your current instance"
   ]
  },
  {
   "cell_type": "code",
   "execution_count": 128,
   "id": "2d48ca49",
   "metadata": {},
   "outputs": [
    {
     "data": {
      "text/plain": [
       "array([[ 0.  , -0.81,  0.  , ..., 14.63, 15.26, 14.72],\n",
       "       [ 1.35,  0.  ,  1.17, ..., 19.57, 21.91, 19.39],\n",
       "       [ 0.18, -0.81,  0.  , ..., 15.26, 16.79, 15.26],\n",
       "       ...,\n",
       "       [13.37, 12.02, 13.28, ...,  0.  ,  2.52,  0.63],\n",
       "       [15.89, 14.54, 15.08, ...,  0.53,  0.  ,  0.09],\n",
       "       [13.64, 11.76, 13.19, ...,  0.44,  1.44,  0.  ]])"
      ]
     },
     "execution_count": 128,
     "metadata": {},
     "output_type": "execute_result"
    }
   ],
   "source": [
    "csm_study.regret_matrix"
   ]
  },
  {
   "cell_type": "markdown",
   "id": "6b681ad3",
   "metadata": {},
   "source": [
    "If you want to know the regret we got training on source $i$ and evaluating on source $j$, just call ```csm_study.regret_matrix[i,j]```.\n"
   ]
  },
  {
   "cell_type": "code",
   "execution_count": 155,
   "id": "81594ee7",
   "metadata": {},
   "outputs": [
    {
     "data": {
      "text/plain": [
       "77.2"
      ]
     },
     "execution_count": 155,
     "metadata": {},
     "output_type": "execute_result"
    }
   ],
   "source": [
    "csm_study.regret_matrix[5,167].round(2)"
   ]
  },
  {
   "cell_type": "markdown",
   "id": "7f3af31e",
   "metadata": {},
   "source": [
    "If you are crazy enough, you can also save the PE/Regret matrix we obtained as a .pdf heatmap using the method ```save_matrix```.\n",
    "\n",
    "It will take some times so grab your coffee meanwhile.\n",
    "\n",
    "Little advice, plot it ordering the rows and the columns according to the Intrinsic Difficulities of the sources."
   ]
  },
  {
   "cell_type": "code",
   "execution_count": 158,
   "id": "8db4b4a4",
   "metadata": {},
   "outputs": [],
   "source": [
    "csm_study.save_matrix(order=np.diag(csm_study.csm_matrix).argsort(),matrix_type='PE_matrix')"
   ]
  },
  {
   "cell_type": "markdown",
   "id": "9bc4f0a0",
   "metadata": {},
   "source": [
    "Our matrix could be very useful to understand the potential of some development pipelines compared to others. \n",
    "\n",
    "**Don't hesitate to use it to derive your own conclusions**\n",
    "\n",
    "The function ```find_config``` can help you to get the ID of a source providing its parameters.\n"
   ]
  },
  {
   "cell_type": "code",
   "execution_count": 175,
   "id": "ef93b298",
   "metadata": {},
   "outputs": [
    {
     "data": {
      "text/plain": [
       "66"
      ]
     },
     "execution_count": 175,
     "metadata": {},
     "output_type": "execute_result"
    }
   ],
   "source": [
    "find_config(bayer_method='amaze',denoising=0,sharpen_micro=50,crop=512,ps_sharpening=3.0)"
   ]
  },
  {
   "cell_type": "code",
   "execution_count": 176,
   "id": "f3beeed6",
   "metadata": {},
   "outputs": [
    {
     "data": {
      "text/plain": [
       "142"
      ]
     },
     "execution_count": 176,
     "metadata": {},
     "output_type": "execute_result"
    }
   ],
   "source": [
    "find_config(bayer_method='fast',denoising=50,sharpen_micro=0,crop=2048,ps_sharpening=3.0)"
   ]
  },
  {
   "cell_type": "markdown",
   "id": "b49d6ab5",
   "metadata": {},
   "source": [
    "### II - Source Clustering/Covering "
   ]
  },
  {
   "cell_type": "markdown",
   "id": "793123ef",
   "metadata": {},
   "source": [
    "Let's say now that you want to build a smart clustering of your sources using the PE matrix you just provided.\n",
    "\n",
    "To do that, you can use our method ```greedy_covering``` and providing to it $\\epsilon$, the maximum regret radius you can accept for your covering."
   ]
  },
  {
   "cell_type": "code",
   "execution_count": 164,
   "id": "a7040bbb-afcc-496d-b7b0-27891f7cd416",
   "metadata": {},
   "outputs": [
    {
     "name": "stdout",
     "output_type": "stream",
     "text": [
      "Max max regrets :  9.97\n",
      "Minimum number of sources for the optimal covering : 1.0\n"
     ]
    },
    {
     "data": {
      "text/plain": [
       "labels\n",
       "229.0     159\n",
       "60.0       69\n",
       "21.0        9\n",
       "31.0        4\n",
       "22.0        2\n",
       "dtype: int64"
      ]
     },
     "execution_count": 164,
     "metadata": {},
     "output_type": "execute_result"
    }
   ],
   "source": [
    "greedy_covering,current_representatives,current_labels=csm_study.greedy_covering(epsilon=10)\n",
    "\n",
    "df=pd.DataFrame()\n",
    "df['labels']=current_labels\n",
    "df.value_counts()"
   ]
  },
  {
   "cell_type": "markdown",
   "id": "289924a4",
   "metadata": {},
   "source": [
    "We reproduced here one result of the article. \n",
    "\n",
    "You can see that the greedy covering is able to spot 5 representatives 229,60,21,31,22 covering respectively 159,69,9,4,4,2 sources with a regret radius of at most 10%. \n",
    "\n",
    "Not so bad !\n",
    "\n",
    "But wait, how do we get the pipelines parameters associated to these interesting representatives ?\n",
    "\n",
    "You have the complete detail in the csv file ```pipelines.csv``` and you can simply use pandas to have your correspondance."
   ]
  },
  {
   "cell_type": "code",
   "execution_count": 173,
   "id": "f1cf324b",
   "metadata": {},
   "outputs": [
    {
     "data": {
      "text/html": [
       "<div>\n",
       "<style scoped>\n",
       "    .dataframe tbody tr th:only-of-type {\n",
       "        vertical-align: middle;\n",
       "    }\n",
       "\n",
       "    .dataframe tbody tr th {\n",
       "        vertical-align: top;\n",
       "    }\n",
       "\n",
       "    .dataframe thead th {\n",
       "        text-align: right;\n",
       "    }\n",
       "</style>\n",
       "<table border=\"1\" class=\"dataframe\">\n",
       "  <thead>\n",
       "    <tr style=\"text-align: right;\">\n",
       "      <th></th>\n",
       "      <th>ID</th>\n",
       "      <th>Demosaicking</th>\n",
       "      <th>Cropping</th>\n",
       "      <th>Denoising</th>\n",
       "      <th>SharpenMicro</th>\n",
       "      <th>Downsampling</th>\n",
       "      <th>PostResizeSharpening</th>\n",
       "    </tr>\n",
       "  </thead>\n",
       "  <tbody>\n",
       "    <tr>\n",
       "      <th>229</th>\n",
       "      <td>229</td>\n",
       "      <td>fast</td>\n",
       "      <td>512</td>\n",
       "      <td>100</td>\n",
       "      <td>50</td>\n",
       "      <td>1.00</td>\n",
       "      <td>3.0</td>\n",
       "    </tr>\n",
       "    <tr>\n",
       "      <th>60</th>\n",
       "      <td>60</td>\n",
       "      <td>amaze</td>\n",
       "      <td>2048</td>\n",
       "      <td>0</td>\n",
       "      <td>0</td>\n",
       "      <td>0.25</td>\n",
       "      <td>3.0</td>\n",
       "    </tr>\n",
       "    <tr>\n",
       "      <th>21</th>\n",
       "      <td>21</td>\n",
       "      <td>amaze</td>\n",
       "      <td>512</td>\n",
       "      <td>0</td>\n",
       "      <td>100</td>\n",
       "      <td>1.00</td>\n",
       "      <td>0.0</td>\n",
       "    </tr>\n",
       "    <tr>\n",
       "      <th>31</th>\n",
       "      <td>31</td>\n",
       "      <td>fast</td>\n",
       "      <td>512</td>\n",
       "      <td>0</td>\n",
       "      <td>0</td>\n",
       "      <td>1.00</td>\n",
       "      <td>1.5</td>\n",
       "    </tr>\n",
       "    <tr>\n",
       "      <th>22</th>\n",
       "      <td>22</td>\n",
       "      <td>fast</td>\n",
       "      <td>512</td>\n",
       "      <td>0</td>\n",
       "      <td>100</td>\n",
       "      <td>1.00</td>\n",
       "      <td>0.0</td>\n",
       "    </tr>\n",
       "  </tbody>\n",
       "</table>\n",
       "</div>"
      ],
      "text/plain": [
       "      ID Demosaicking  Cropping  Denoising  SharpenMicro  Downsampling  \\\n",
       "229  229         fast       512        100            50          1.00   \n",
       "60    60        amaze      2048          0             0          0.25   \n",
       "21    21        amaze       512          0           100          1.00   \n",
       "31    31         fast       512          0             0          1.00   \n",
       "22    22         fast       512          0           100          1.00   \n",
       "\n",
       "     PostResizeSharpening  \n",
       "229                   3.0  \n",
       "60                    3.0  \n",
       "21                    0.0  \n",
       "31                    1.5  \n",
       "22                    0.0  "
      ]
     },
     "execution_count": 173,
     "metadata": {},
     "output_type": "execute_result"
    }
   ],
   "source": [
    "df=pd.read_csv('../pipelines.csv')\n",
    "df.iloc[df.ID.values[list(greedy_covering.keys())]]"
   ]
  },
  {
   "cell_type": "markdown",
   "id": "cad83d0a",
   "metadata": {},
   "source": [
    "This is nice but it does not enable to know precisely the content of each cluster found by the greedy covering.\n",
    "\n",
    "That's why, we also provide you a function ```cluster_to_graph``` that enables to generate a graph representing the pipelines present in a cluster.\n",
    "\n",
    "For instance, if we ask for the graph of the cluster represented by the source ```229```, we obtain :"
   ]
  },
  {
   "cell_type": "code",
   "execution_count": 162,
   "id": "db371fc1",
   "metadata": {},
   "outputs": [
    {
     "data": {
      "image/svg+xml": "<?xml version=\"1.0\" encoding=\"utf-8\" standalone=\"no\"?>\n<!DOCTYPE svg PUBLIC \"-//W3C//DTD SVG 1.1//EN\"\n  \"http://www.w3.org/Graphics/SVG/1.1/DTD/svg11.dtd\">\n<svg xmlns:xlink=\"http://www.w3.org/1999/xlink\" width=\"694.763616pt\" height=\"248.518125pt\" viewBox=\"0 0 694.763616 248.518125\" xmlns=\"http://www.w3.org/2000/svg\" version=\"1.1\">\n <metadata>\n  <rdf:RDF xmlns:dc=\"http://purl.org/dc/elements/1.1/\" xmlns:cc=\"http://creativecommons.org/ns#\" xmlns:rdf=\"http://www.w3.org/1999/02/22-rdf-syntax-ns#\">\n   <cc:Work>\n    <dc:type rdf:resource=\"http://purl.org/dc/dcmitype/StillImage\"/>\n    <dc:date>2022-10-19T16:24:08.401217</dc:date>\n    <dc:format>image/svg+xml</dc:format>\n    <dc:creator>\n     <cc:Agent>\n      <dc:title>Matplotlib v3.5.2, https://matplotlib.org/</dc:title>\n     </cc:Agent>\n    </dc:creator>\n   </cc:Work>\n  </rdf:RDF>\n </metadata>\n <defs>\n  <style type=\"text/css\">*{stroke-linejoin: round; stroke-linecap: butt}</style>\n </defs>\n <g id=\"figure_1\">\n  <g id=\"patch_1\">\n   <path d=\"M 0 248.518125 \nL 694.763616 248.518125 \nL 694.763616 0 \nL 0 0 \nL 0 248.518125 \nz\n\" style=\"fill: none\"/>\n  </g>\n  <g id=\"axes_1\">\n   <g id=\"patch_2\">\n    <path d=\"M 10.7 224.64 \nL 680.3 224.64 \nL 680.3 7.2 \nL 10.7 7.2 \nz\n\" style=\"fill: #ffffff\"/>\n   </g>\n   <g id=\"matplotlib.axis_1\">\n    <g id=\"xtick_1\">\n     <g id=\"line2d_1\">\n      <defs>\n       <path id=\"m193c33110f\" d=\"M 0 0 \nL 0 3.5 \n\" style=\"stroke: #000000; stroke-width: 0.8\"/>\n      </defs>\n      <g>\n       <use xlink:href=\"#m193c33110f\" x=\"58.528571\" y=\"224.64\" style=\"stroke: #000000; stroke-width: 0.8\"/>\n      </g>\n     </g>\n     <g id=\"text_1\">\n      <!-- Demosaicking -->\n      <g transform=\"translate(23.237946 239.238437)scale(0.1 -0.1)\">\n       <defs>\n        <path id=\"DejaVuSans-44\" d=\"M 1259 4147 \nL 1259 519 \nL 2022 519 \nQ 2988 519 3436 956 \nQ 3884 1394 3884 2338 \nQ 3884 3275 3436 3711 \nQ 2988 4147 2022 4147 \nL 1259 4147 \nz\nM 628 4666 \nL 1925 4666 \nQ 3281 4666 3915 4102 \nQ 4550 3538 4550 2338 \nQ 4550 1131 3912 565 \nQ 3275 0 1925 0 \nL 628 0 \nL 628 4666 \nz\n\" transform=\"scale(0.015625)\"/>\n        <path id=\"DejaVuSans-65\" d=\"M 3597 1894 \nL 3597 1613 \nL 953 1613 \nQ 991 1019 1311 708 \nQ 1631 397 2203 397 \nQ 2534 397 2845 478 \nQ 3156 559 3463 722 \nL 3463 178 \nQ 3153 47 2828 -22 \nQ 2503 -91 2169 -91 \nQ 1331 -91 842 396 \nQ 353 884 353 1716 \nQ 353 2575 817 3079 \nQ 1281 3584 2069 3584 \nQ 2775 3584 3186 3129 \nQ 3597 2675 3597 1894 \nz\nM 3022 2063 \nQ 3016 2534 2758 2815 \nQ 2500 3097 2075 3097 \nQ 1594 3097 1305 2825 \nQ 1016 2553 972 2059 \nL 3022 2063 \nz\n\" transform=\"scale(0.015625)\"/>\n        <path id=\"DejaVuSans-6d\" d=\"M 3328 2828 \nQ 3544 3216 3844 3400 \nQ 4144 3584 4550 3584 \nQ 5097 3584 5394 3201 \nQ 5691 2819 5691 2113 \nL 5691 0 \nL 5113 0 \nL 5113 2094 \nQ 5113 2597 4934 2840 \nQ 4756 3084 4391 3084 \nQ 3944 3084 3684 2787 \nQ 3425 2491 3425 1978 \nL 3425 0 \nL 2847 0 \nL 2847 2094 \nQ 2847 2600 2669 2842 \nQ 2491 3084 2119 3084 \nQ 1678 3084 1418 2786 \nQ 1159 2488 1159 1978 \nL 1159 0 \nL 581 0 \nL 581 3500 \nL 1159 3500 \nL 1159 2956 \nQ 1356 3278 1631 3431 \nQ 1906 3584 2284 3584 \nQ 2666 3584 2933 3390 \nQ 3200 3197 3328 2828 \nz\n\" transform=\"scale(0.015625)\"/>\n        <path id=\"DejaVuSans-6f\" d=\"M 1959 3097 \nQ 1497 3097 1228 2736 \nQ 959 2375 959 1747 \nQ 959 1119 1226 758 \nQ 1494 397 1959 397 \nQ 2419 397 2687 759 \nQ 2956 1122 2956 1747 \nQ 2956 2369 2687 2733 \nQ 2419 3097 1959 3097 \nz\nM 1959 3584 \nQ 2709 3584 3137 3096 \nQ 3566 2609 3566 1747 \nQ 3566 888 3137 398 \nQ 2709 -91 1959 -91 \nQ 1206 -91 779 398 \nQ 353 888 353 1747 \nQ 353 2609 779 3096 \nQ 1206 3584 1959 3584 \nz\n\" transform=\"scale(0.015625)\"/>\n        <path id=\"DejaVuSans-73\" d=\"M 2834 3397 \nL 2834 2853 \nQ 2591 2978 2328 3040 \nQ 2066 3103 1784 3103 \nQ 1356 3103 1142 2972 \nQ 928 2841 928 2578 \nQ 928 2378 1081 2264 \nQ 1234 2150 1697 2047 \nL 1894 2003 \nQ 2506 1872 2764 1633 \nQ 3022 1394 3022 966 \nQ 3022 478 2636 193 \nQ 2250 -91 1575 -91 \nQ 1294 -91 989 -36 \nQ 684 19 347 128 \nL 347 722 \nQ 666 556 975 473 \nQ 1284 391 1588 391 \nQ 1994 391 2212 530 \nQ 2431 669 2431 922 \nQ 2431 1156 2273 1281 \nQ 2116 1406 1581 1522 \nL 1381 1569 \nQ 847 1681 609 1914 \nQ 372 2147 372 2553 \nQ 372 3047 722 3315 \nQ 1072 3584 1716 3584 \nQ 2034 3584 2315 3537 \nQ 2597 3491 2834 3397 \nz\n\" transform=\"scale(0.015625)\"/>\n        <path id=\"DejaVuSans-61\" d=\"M 2194 1759 \nQ 1497 1759 1228 1600 \nQ 959 1441 959 1056 \nQ 959 750 1161 570 \nQ 1363 391 1709 391 \nQ 2188 391 2477 730 \nQ 2766 1069 2766 1631 \nL 2766 1759 \nL 2194 1759 \nz\nM 3341 1997 \nL 3341 0 \nL 2766 0 \nL 2766 531 \nQ 2569 213 2275 61 \nQ 1981 -91 1556 -91 \nQ 1019 -91 701 211 \nQ 384 513 384 1019 \nQ 384 1609 779 1909 \nQ 1175 2209 1959 2209 \nL 2766 2209 \nL 2766 2266 \nQ 2766 2663 2505 2880 \nQ 2244 3097 1772 3097 \nQ 1472 3097 1187 3025 \nQ 903 2953 641 2809 \nL 641 3341 \nQ 956 3463 1253 3523 \nQ 1550 3584 1831 3584 \nQ 2591 3584 2966 3190 \nQ 3341 2797 3341 1997 \nz\n\" transform=\"scale(0.015625)\"/>\n        <path id=\"DejaVuSans-69\" d=\"M 603 3500 \nL 1178 3500 \nL 1178 0 \nL 603 0 \nL 603 3500 \nz\nM 603 4863 \nL 1178 4863 \nL 1178 4134 \nL 603 4134 \nL 603 4863 \nz\n\" transform=\"scale(0.015625)\"/>\n        <path id=\"DejaVuSans-63\" d=\"M 3122 3366 \nL 3122 2828 \nQ 2878 2963 2633 3030 \nQ 2388 3097 2138 3097 \nQ 1578 3097 1268 2742 \nQ 959 2388 959 1747 \nQ 959 1106 1268 751 \nQ 1578 397 2138 397 \nQ 2388 397 2633 464 \nQ 2878 531 3122 666 \nL 3122 134 \nQ 2881 22 2623 -34 \nQ 2366 -91 2075 -91 \nQ 1284 -91 818 406 \nQ 353 903 353 1747 \nQ 353 2603 823 3093 \nQ 1294 3584 2113 3584 \nQ 2378 3584 2631 3529 \nQ 2884 3475 3122 3366 \nz\n\" transform=\"scale(0.015625)\"/>\n        <path id=\"DejaVuSans-6b\" d=\"M 581 4863 \nL 1159 4863 \nL 1159 1991 \nL 2875 3500 \nL 3609 3500 \nL 1753 1863 \nL 3688 0 \nL 2938 0 \nL 1159 1709 \nL 1159 0 \nL 581 0 \nL 581 4863 \nz\n\" transform=\"scale(0.015625)\"/>\n        <path id=\"DejaVuSans-6e\" d=\"M 3513 2113 \nL 3513 0 \nL 2938 0 \nL 2938 2094 \nQ 2938 2591 2744 2837 \nQ 2550 3084 2163 3084 \nQ 1697 3084 1428 2787 \nQ 1159 2491 1159 1978 \nL 1159 0 \nL 581 0 \nL 581 3500 \nL 1159 3500 \nL 1159 2956 \nQ 1366 3272 1645 3428 \nQ 1925 3584 2291 3584 \nQ 2894 3584 3203 3211 \nQ 3513 2838 3513 2113 \nz\n\" transform=\"scale(0.015625)\"/>\n        <path id=\"DejaVuSans-67\" d=\"M 2906 1791 \nQ 2906 2416 2648 2759 \nQ 2391 3103 1925 3103 \nQ 1463 3103 1205 2759 \nQ 947 2416 947 1791 \nQ 947 1169 1205 825 \nQ 1463 481 1925 481 \nQ 2391 481 2648 825 \nQ 2906 1169 2906 1791 \nz\nM 3481 434 \nQ 3481 -459 3084 -895 \nQ 2688 -1331 1869 -1331 \nQ 1566 -1331 1297 -1286 \nQ 1028 -1241 775 -1147 \nL 775 -588 \nQ 1028 -725 1275 -790 \nQ 1522 -856 1778 -856 \nQ 2344 -856 2625 -561 \nQ 2906 -266 2906 331 \nL 2906 616 \nQ 2728 306 2450 153 \nQ 2172 0 1784 0 \nQ 1141 0 747 490 \nQ 353 981 353 1791 \nQ 353 2603 747 3093 \nQ 1141 3584 1784 3584 \nQ 2172 3584 2450 3431 \nQ 2728 3278 2906 2969 \nL 2906 3500 \nL 3481 3500 \nL 3481 434 \nz\n\" transform=\"scale(0.015625)\"/>\n       </defs>\n       <use xlink:href=\"#DejaVuSans-44\"/>\n       <use xlink:href=\"#DejaVuSans-65\" x=\"77.001953\"/>\n       <use xlink:href=\"#DejaVuSans-6d\" x=\"138.525391\"/>\n       <use xlink:href=\"#DejaVuSans-6f\" x=\"235.9375\"/>\n       <use xlink:href=\"#DejaVuSans-73\" x=\"297.119141\"/>\n       <use xlink:href=\"#DejaVuSans-61\" x=\"349.21875\"/>\n       <use xlink:href=\"#DejaVuSans-69\" x=\"410.498047\"/>\n       <use xlink:href=\"#DejaVuSans-63\" x=\"438.28125\"/>\n       <use xlink:href=\"#DejaVuSans-6b\" x=\"493.261719\"/>\n       <use xlink:href=\"#DejaVuSans-69\" x=\"551.171875\"/>\n       <use xlink:href=\"#DejaVuSans-6e\" x=\"578.955078\"/>\n       <use xlink:href=\"#DejaVuSans-67\" x=\"642.333984\"/>\n      </g>\n     </g>\n    </g>\n    <g id=\"xtick_2\">\n     <g id=\"line2d_2\">\n      <g>\n       <use xlink:href=\"#m193c33110f\" x=\"202.014286\" y=\"224.64\" style=\"stroke: #000000; stroke-width: 0.8\"/>\n      </g>\n     </g>\n     <g id=\"text_2\">\n      <!-- Denoising -->\n      <g transform=\"translate(177.133817 239.238437)scale(0.1 -0.1)\">\n       <use xlink:href=\"#DejaVuSans-44\"/>\n       <use xlink:href=\"#DejaVuSans-65\" x=\"77.001953\"/>\n       <use xlink:href=\"#DejaVuSans-6e\" x=\"138.525391\"/>\n       <use xlink:href=\"#DejaVuSans-6f\" x=\"201.904297\"/>\n       <use xlink:href=\"#DejaVuSans-69\" x=\"263.085938\"/>\n       <use xlink:href=\"#DejaVuSans-73\" x=\"290.869141\"/>\n       <use xlink:href=\"#DejaVuSans-69\" x=\"342.96875\"/>\n       <use xlink:href=\"#DejaVuSans-6e\" x=\"370.751953\"/>\n       <use xlink:href=\"#DejaVuSans-67\" x=\"434.130859\"/>\n      </g>\n     </g>\n    </g>\n    <g id=\"xtick_3\">\n     <g id=\"line2d_3\">\n      <g>\n       <use xlink:href=\"#m193c33110f\" x=\"345.5\" y=\"224.64\" style=\"stroke: #000000; stroke-width: 0.8\"/>\n      </g>\n     </g>\n     <g id=\"text_3\">\n      <!-- SharpenMicro -->\n      <g transform=\"translate(311.163281 239.238437)scale(0.1 -0.1)\">\n       <defs>\n        <path id=\"DejaVuSans-53\" d=\"M 3425 4513 \nL 3425 3897 \nQ 3066 4069 2747 4153 \nQ 2428 4238 2131 4238 \nQ 1616 4238 1336 4038 \nQ 1056 3838 1056 3469 \nQ 1056 3159 1242 3001 \nQ 1428 2844 1947 2747 \nL 2328 2669 \nQ 3034 2534 3370 2195 \nQ 3706 1856 3706 1288 \nQ 3706 609 3251 259 \nQ 2797 -91 1919 -91 \nQ 1588 -91 1214 -16 \nQ 841 59 441 206 \nL 441 856 \nQ 825 641 1194 531 \nQ 1563 422 1919 422 \nQ 2459 422 2753 634 \nQ 3047 847 3047 1241 \nQ 3047 1584 2836 1778 \nQ 2625 1972 2144 2069 \nL 1759 2144 \nQ 1053 2284 737 2584 \nQ 422 2884 422 3419 \nQ 422 4038 858 4394 \nQ 1294 4750 2059 4750 \nQ 2388 4750 2728 4690 \nQ 3069 4631 3425 4513 \nz\n\" transform=\"scale(0.015625)\"/>\n        <path id=\"DejaVuSans-68\" d=\"M 3513 2113 \nL 3513 0 \nL 2938 0 \nL 2938 2094 \nQ 2938 2591 2744 2837 \nQ 2550 3084 2163 3084 \nQ 1697 3084 1428 2787 \nQ 1159 2491 1159 1978 \nL 1159 0 \nL 581 0 \nL 581 4863 \nL 1159 4863 \nL 1159 2956 \nQ 1366 3272 1645 3428 \nQ 1925 3584 2291 3584 \nQ 2894 3584 3203 3211 \nQ 3513 2838 3513 2113 \nz\n\" transform=\"scale(0.015625)\"/>\n        <path id=\"DejaVuSans-72\" d=\"M 2631 2963 \nQ 2534 3019 2420 3045 \nQ 2306 3072 2169 3072 \nQ 1681 3072 1420 2755 \nQ 1159 2438 1159 1844 \nL 1159 0 \nL 581 0 \nL 581 3500 \nL 1159 3500 \nL 1159 2956 \nQ 1341 3275 1631 3429 \nQ 1922 3584 2338 3584 \nQ 2397 3584 2469 3576 \nQ 2541 3569 2628 3553 \nL 2631 2963 \nz\n\" transform=\"scale(0.015625)\"/>\n        <path id=\"DejaVuSans-70\" d=\"M 1159 525 \nL 1159 -1331 \nL 581 -1331 \nL 581 3500 \nL 1159 3500 \nL 1159 2969 \nQ 1341 3281 1617 3432 \nQ 1894 3584 2278 3584 \nQ 2916 3584 3314 3078 \nQ 3713 2572 3713 1747 \nQ 3713 922 3314 415 \nQ 2916 -91 2278 -91 \nQ 1894 -91 1617 61 \nQ 1341 213 1159 525 \nz\nM 3116 1747 \nQ 3116 2381 2855 2742 \nQ 2594 3103 2138 3103 \nQ 1681 3103 1420 2742 \nQ 1159 2381 1159 1747 \nQ 1159 1113 1420 752 \nQ 1681 391 2138 391 \nQ 2594 391 2855 752 \nQ 3116 1113 3116 1747 \nz\n\" transform=\"scale(0.015625)\"/>\n        <path id=\"DejaVuSans-4d\" d=\"M 628 4666 \nL 1569 4666 \nL 2759 1491 \nL 3956 4666 \nL 4897 4666 \nL 4897 0 \nL 4281 0 \nL 4281 4097 \nL 3078 897 \nL 2444 897 \nL 1241 4097 \nL 1241 0 \nL 628 0 \nL 628 4666 \nz\n\" transform=\"scale(0.015625)\"/>\n       </defs>\n       <use xlink:href=\"#DejaVuSans-53\"/>\n       <use xlink:href=\"#DejaVuSans-68\" x=\"63.476562\"/>\n       <use xlink:href=\"#DejaVuSans-61\" x=\"126.855469\"/>\n       <use xlink:href=\"#DejaVuSans-72\" x=\"188.134766\"/>\n       <use xlink:href=\"#DejaVuSans-70\" x=\"229.248047\"/>\n       <use xlink:href=\"#DejaVuSans-65\" x=\"292.724609\"/>\n       <use xlink:href=\"#DejaVuSans-6e\" x=\"354.248047\"/>\n       <use xlink:href=\"#DejaVuSans-4d\" x=\"417.626953\"/>\n       <use xlink:href=\"#DejaVuSans-69\" x=\"503.90625\"/>\n       <use xlink:href=\"#DejaVuSans-63\" x=\"531.689453\"/>\n       <use xlink:href=\"#DejaVuSans-72\" x=\"586.669922\"/>\n       <use xlink:href=\"#DejaVuSans-6f\" x=\"625.533203\"/>\n      </g>\n     </g>\n    </g>\n    <g id=\"xtick_4\">\n     <g id=\"line2d_4\">\n      <g>\n       <use xlink:href=\"#m193c33110f\" x=\"488.985714\" y=\"224.64\" style=\"stroke: #000000; stroke-width: 0.8\"/>\n      </g>\n     </g>\n     <g id=\"text_4\">\n      <!-- Downsampling -->\n      <g transform=\"translate(451.984152 239.238437)scale(0.1 -0.1)\">\n       <defs>\n        <path id=\"DejaVuSans-77\" d=\"M 269 3500 \nL 844 3500 \nL 1563 769 \nL 2278 3500 \nL 2956 3500 \nL 3675 769 \nL 4391 3500 \nL 4966 3500 \nL 4050 0 \nL 3372 0 \nL 2619 2869 \nL 1863 0 \nL 1184 0 \nL 269 3500 \nz\n\" transform=\"scale(0.015625)\"/>\n        <path id=\"DejaVuSans-6c\" d=\"M 603 4863 \nL 1178 4863 \nL 1178 0 \nL 603 0 \nL 603 4863 \nz\n\" transform=\"scale(0.015625)\"/>\n       </defs>\n       <use xlink:href=\"#DejaVuSans-44\"/>\n       <use xlink:href=\"#DejaVuSans-6f\" x=\"77.001953\"/>\n       <use xlink:href=\"#DejaVuSans-77\" x=\"138.183594\"/>\n       <use xlink:href=\"#DejaVuSans-6e\" x=\"219.970703\"/>\n       <use xlink:href=\"#DejaVuSans-73\" x=\"283.349609\"/>\n       <use xlink:href=\"#DejaVuSans-61\" x=\"335.449219\"/>\n       <use xlink:href=\"#DejaVuSans-6d\" x=\"396.728516\"/>\n       <use xlink:href=\"#DejaVuSans-70\" x=\"494.140625\"/>\n       <use xlink:href=\"#DejaVuSans-6c\" x=\"557.617188\"/>\n       <use xlink:href=\"#DejaVuSans-69\" x=\"585.400391\"/>\n       <use xlink:href=\"#DejaVuSans-6e\" x=\"613.183594\"/>\n       <use xlink:href=\"#DejaVuSans-67\" x=\"676.5625\"/>\n      </g>\n     </g>\n    </g>\n    <g id=\"xtick_5\">\n     <g id=\"line2d_5\">\n      <g>\n       <use xlink:href=\"#m193c33110f\" x=\"632.471429\" y=\"224.64\" style=\"stroke: #000000; stroke-width: 0.8\"/>\n      </g>\n     </g>\n     <g id=\"text_5\">\n      <!-- PostResizeSharpening -->\n      <g transform=\"translate(577.379241 239.238437)scale(0.1 -0.1)\">\n       <defs>\n        <path id=\"DejaVuSans-50\" d=\"M 1259 4147 \nL 1259 2394 \nL 2053 2394 \nQ 2494 2394 2734 2622 \nQ 2975 2850 2975 3272 \nQ 2975 3691 2734 3919 \nQ 2494 4147 2053 4147 \nL 1259 4147 \nz\nM 628 4666 \nL 2053 4666 \nQ 2838 4666 3239 4311 \nQ 3641 3956 3641 3272 \nQ 3641 2581 3239 2228 \nQ 2838 1875 2053 1875 \nL 1259 1875 \nL 1259 0 \nL 628 0 \nL 628 4666 \nz\n\" transform=\"scale(0.015625)\"/>\n        <path id=\"DejaVuSans-74\" d=\"M 1172 4494 \nL 1172 3500 \nL 2356 3500 \nL 2356 3053 \nL 1172 3053 \nL 1172 1153 \nQ 1172 725 1289 603 \nQ 1406 481 1766 481 \nL 2356 481 \nL 2356 0 \nL 1766 0 \nQ 1100 0 847 248 \nQ 594 497 594 1153 \nL 594 3053 \nL 172 3053 \nL 172 3500 \nL 594 3500 \nL 594 4494 \nL 1172 4494 \nz\n\" transform=\"scale(0.015625)\"/>\n        <path id=\"DejaVuSans-52\" d=\"M 2841 2188 \nQ 3044 2119 3236 1894 \nQ 3428 1669 3622 1275 \nL 4263 0 \nL 3584 0 \nL 2988 1197 \nQ 2756 1666 2539 1819 \nQ 2322 1972 1947 1972 \nL 1259 1972 \nL 1259 0 \nL 628 0 \nL 628 4666 \nL 2053 4666 \nQ 2853 4666 3247 4331 \nQ 3641 3997 3641 3322 \nQ 3641 2881 3436 2590 \nQ 3231 2300 2841 2188 \nz\nM 1259 4147 \nL 1259 2491 \nL 2053 2491 \nQ 2509 2491 2742 2702 \nQ 2975 2913 2975 3322 \nQ 2975 3731 2742 3939 \nQ 2509 4147 2053 4147 \nL 1259 4147 \nz\n\" transform=\"scale(0.015625)\"/>\n        <path id=\"DejaVuSans-7a\" d=\"M 353 3500 \nL 3084 3500 \nL 3084 2975 \nL 922 459 \nL 3084 459 \nL 3084 0 \nL 275 0 \nL 275 525 \nL 2438 3041 \nL 353 3041 \nL 353 3500 \nz\n\" transform=\"scale(0.015625)\"/>\n       </defs>\n       <use xlink:href=\"#DejaVuSans-50\"/>\n       <use xlink:href=\"#DejaVuSans-6f\" x=\"56.677734\"/>\n       <use xlink:href=\"#DejaVuSans-73\" x=\"117.859375\"/>\n       <use xlink:href=\"#DejaVuSans-74\" x=\"169.958984\"/>\n       <use xlink:href=\"#DejaVuSans-52\" x=\"209.167969\"/>\n       <use xlink:href=\"#DejaVuSans-65\" x=\"274.150391\"/>\n       <use xlink:href=\"#DejaVuSans-73\" x=\"335.673828\"/>\n       <use xlink:href=\"#DejaVuSans-69\" x=\"387.773438\"/>\n       <use xlink:href=\"#DejaVuSans-7a\" x=\"415.556641\"/>\n       <use xlink:href=\"#DejaVuSans-65\" x=\"468.046875\"/>\n       <use xlink:href=\"#DejaVuSans-53\" x=\"529.570312\"/>\n       <use xlink:href=\"#DejaVuSans-68\" x=\"593.046875\"/>\n       <use xlink:href=\"#DejaVuSans-61\" x=\"656.425781\"/>\n       <use xlink:href=\"#DejaVuSans-72\" x=\"717.705078\"/>\n       <use xlink:href=\"#DejaVuSans-70\" x=\"758.818359\"/>\n       <use xlink:href=\"#DejaVuSans-65\" x=\"822.294922\"/>\n       <use xlink:href=\"#DejaVuSans-6e\" x=\"883.818359\"/>\n       <use xlink:href=\"#DejaVuSans-69\" x=\"947.197266\"/>\n       <use xlink:href=\"#DejaVuSans-6e\" x=\"974.980469\"/>\n       <use xlink:href=\"#DejaVuSans-67\" x=\"1038.359375\"/>\n      </g>\n     </g>\n    </g>\n   </g>\n   <g id=\"line2d_6\">\n    <path d=\"M 58.528571 188.4 \nL 202.014286 188.4 \n\" clip-path=\"url(#pc13cea9d8a)\" style=\"fill: none; stroke: #000000; stroke-width: 1.2; stroke-linecap: square\"/>\n   </g>\n   <g id=\"line2d_7\">\n    <path d=\"M 58.528571 43.44 \nL 202.014286 188.4 \n\" clip-path=\"url(#pc13cea9d8a)\" style=\"fill: none; stroke: #000000; stroke-width: 1.2; stroke-linecap: square\"/>\n   </g>\n   <g id=\"line2d_8\">\n    <path d=\"M 58.528571 115.92 \nL 202.014286 188.4 \n\" clip-path=\"url(#pc13cea9d8a)\" style=\"fill: none; stroke: #000000; stroke-width: 1.2; stroke-linecap: square\"/>\n   </g>\n   <g id=\"line2d_9\">\n    <path d=\"M 58.528571 188.4 \nL 202.014286 115.92 \n\" clip-path=\"url(#pc13cea9d8a)\" style=\"fill: none; stroke: #000000; stroke-width: 6.6; stroke-linecap: square\"/>\n   </g>\n   <g id=\"line2d_10\">\n    <path d=\"M 58.528571 43.44 \nL 202.014286 115.92 \n\" clip-path=\"url(#pc13cea9d8a)\" style=\"fill: none; stroke: #000000; stroke-width: 7.5; stroke-linecap: square\"/>\n   </g>\n   <g id=\"line2d_11\">\n    <path d=\"M 58.528571 115.92 \nL 202.014286 115.92 \n\" clip-path=\"url(#pc13cea9d8a)\" style=\"fill: none; stroke: #000000; stroke-width: 5.7; stroke-linecap: square\"/>\n   </g>\n   <g id=\"line2d_12\">\n    <path d=\"M 58.528571 188.4 \nL 202.014286 43.44 \n\" clip-path=\"url(#pc13cea9d8a)\" style=\"fill: none; stroke: #3cb371; stroke-width: 8.1; stroke-linecap: square\"/>\n   </g>\n   <g id=\"line2d_13\">\n    <path d=\"M 58.528571 43.44 \nL 202.014286 43.44 \n\" clip-path=\"url(#pc13cea9d8a)\" style=\"fill: none; stroke: #3cb371; stroke-width: 8.1; stroke-linecap: square\"/>\n   </g>\n   <g id=\"line2d_14\">\n    <path d=\"M 58.528571 115.92 \nL 202.014286 43.44 \n\" clip-path=\"url(#pc13cea9d8a)\" style=\"fill: none; stroke: #3cb371; stroke-width: 8.1; stroke-linecap: square\"/>\n   </g>\n   <g id=\"line2d_15\">\n    <path d=\"M 202.014286 188.4 \nL 345.5 188.4 \n\" clip-path=\"url(#pc13cea9d8a)\" style=\"fill: none; stroke: #000000; stroke-width: 1.8; stroke-linecap: square\"/>\n   </g>\n   <g id=\"line2d_16\">\n    <path d=\"M 202.014286 188.4 \nL 345.5 115.92 \n\" clip-path=\"url(#pc13cea9d8a)\" style=\"fill: none; stroke: #000000; stroke-width: 0.9; stroke-linecap: square\"/>\n   </g>\n   <g id=\"line2d_17\">\n    <path d=\"M 202.014286 188.4 \nL 345.5 43.44 \n\" clip-path=\"url(#pc13cea9d8a)\" style=\"fill: none; stroke: #000000; stroke-width: 0.9; stroke-linecap: square\"/>\n   </g>\n   <g id=\"line2d_18\">\n    <path d=\"M 202.014286 115.92 \nL 345.5 188.4 \n\" clip-path=\"url(#pc13cea9d8a)\" style=\"fill: none; stroke: #000000; stroke-width: 7.8; stroke-linecap: square\"/>\n   </g>\n   <g id=\"line2d_19\">\n    <path d=\"M 202.014286 115.92 \nL 345.5 115.92 \n\" clip-path=\"url(#pc13cea9d8a)\" style=\"fill: none; stroke: #000000; stroke-width: 6.6; stroke-linecap: square\"/>\n   </g>\n   <g id=\"line2d_20\">\n    <path d=\"M 202.014286 115.92 \nL 345.5 43.44 \n\" clip-path=\"url(#pc13cea9d8a)\" style=\"fill: none; stroke: #000000; stroke-width: 5.4; stroke-linecap: square\"/>\n   </g>\n   <g id=\"line2d_21\">\n    <path d=\"M 202.014286 43.44 \nL 345.5 188.4 \n\" clip-path=\"url(#pc13cea9d8a)\" style=\"fill: none; stroke: #3cb371; stroke-width: 8.1; stroke-linecap: square\"/>\n   </g>\n   <g id=\"line2d_22\">\n    <path d=\"M 202.014286 43.44 \nL 345.5 115.92 \n\" clip-path=\"url(#pc13cea9d8a)\" style=\"fill: none; stroke: #3cb371; stroke-width: 8.1; stroke-linecap: square\"/>\n   </g>\n   <g id=\"line2d_23\">\n    <path d=\"M 202.014286 43.44 \nL 345.5 43.44 \n\" clip-path=\"url(#pc13cea9d8a)\" style=\"fill: none; stroke: #3cb371; stroke-width: 8.1; stroke-linecap: square\"/>\n   </g>\n   <g id=\"line2d_24\">\n    <path d=\"M 345.5 188.4 \nL 488.985714 188.4 \n\" clip-path=\"url(#pc13cea9d8a)\" style=\"fill: none; stroke: #3cb371; stroke-width: 6.3; stroke-linecap: square\"/>\n   </g>\n   <g id=\"line2d_25\">\n    <path d=\"M 345.5 188.4 \nL 488.985714 115.92 \n\" clip-path=\"url(#pc13cea9d8a)\" style=\"fill: none; stroke: #3cb371; stroke-width: 6.3; stroke-linecap: square\"/>\n   </g>\n   <g id=\"line2d_26\">\n    <path d=\"M 345.5 115.92 \nL 488.985714 188.4 \n\" clip-path=\"url(#pc13cea9d8a)\" style=\"fill: none; stroke: #3cb371; stroke-width: 6.3; stroke-linecap: square\"/>\n   </g>\n   <g id=\"line2d_27\">\n    <path d=\"M 345.5 43.44 \nL 488.985714 188.4 \n\" clip-path=\"url(#pc13cea9d8a)\" style=\"fill: none; stroke: #3cb371; stroke-width: 6.3; stroke-linecap: square\"/>\n   </g>\n   <g id=\"line2d_28\">\n    <path d=\"M 345.5 188.4 \nL 488.985714 43.44 \n\" clip-path=\"url(#pc13cea9d8a)\" style=\"fill: none; stroke: #000000; stroke-width: 5.1; stroke-linecap: square\"/>\n   </g>\n   <g id=\"line2d_29\">\n    <path d=\"M 345.5 115.92 \nL 488.985714 43.44 \n\" clip-path=\"url(#pc13cea9d8a)\" style=\"fill: none; stroke: #000000; stroke-width: 4.8; stroke-linecap: square\"/>\n   </g>\n   <g id=\"line2d_30\">\n    <path d=\"M 345.5 115.92 \nL 488.985714 115.92 \n\" clip-path=\"url(#pc13cea9d8a)\" style=\"fill: none; stroke: #000000; stroke-width: 4.5; stroke-linecap: square\"/>\n   </g>\n   <g id=\"line2d_31\">\n    <path d=\"M 345.5 43.44 \nL 488.985714 43.44 \n\" clip-path=\"url(#pc13cea9d8a)\" style=\"fill: none; stroke: #000000; stroke-width: 4.5; stroke-linecap: square\"/>\n   </g>\n   <g id=\"line2d_32\">\n    <path d=\"M 345.5 43.44 \nL 488.985714 115.92 \n\" clip-path=\"url(#pc13cea9d8a)\" style=\"fill: none; stroke: #000000; stroke-width: 3.6; stroke-linecap: square\"/>\n   </g>\n   <g id=\"line2d_33\">\n    <path d=\"M 488.985714 188.4 \nL 632.471429 188.4 \n\" clip-path=\"url(#pc13cea9d8a)\" style=\"fill: none; stroke: #3cb371; stroke-width: 8.1; stroke-linecap: square\"/>\n   </g>\n   <g id=\"line2d_34\">\n    <path d=\"M 488.985714 115.92 \nL 632.471429 188.4 \n\" clip-path=\"url(#pc13cea9d8a)\" style=\"fill: none; stroke: #000000; stroke-width: 6.3; stroke-linecap: square\"/>\n   </g>\n   <g id=\"line2d_35\">\n    <path d=\"M 488.985714 43.44 \nL 632.471429 188.4 \n\" clip-path=\"url(#pc13cea9d8a)\" style=\"fill: none; stroke: #000000; stroke-width: 5.4; stroke-linecap: square\"/>\n   </g>\n   <g id=\"line2d_36\">\n    <path d=\"M 488.985714 188.4 \nL 632.471429 115.92 \n\" clip-path=\"url(#pc13cea9d8a)\" style=\"fill: none; stroke: #000000; stroke-width: 5.4; stroke-linecap: square\"/>\n   </g>\n   <g id=\"line2d_37\">\n    <path d=\"M 488.985714 43.44 \nL 632.471429 115.92 \n\" clip-path=\"url(#pc13cea9d8a)\" style=\"fill: none; stroke: #000000; stroke-width: 4.5; stroke-linecap: square\"/>\n   </g>\n   <g id=\"line2d_38\">\n    <path d=\"M 488.985714 115.92 \nL 632.471429 115.92 \n\" clip-path=\"url(#pc13cea9d8a)\" style=\"fill: none; stroke: #000000; stroke-width: 3.9; stroke-linecap: square\"/>\n   </g>\n   <g id=\"line2d_39\">\n    <path d=\"M 488.985714 188.4 \nL 632.471429 43.44 \n\" clip-path=\"url(#pc13cea9d8a)\" style=\"fill: none; stroke: #000000; stroke-width: 5.4; stroke-linecap: square\"/>\n   </g>\n   <g id=\"line2d_40\">\n    <path d=\"M 488.985714 43.44 \nL 632.471429 43.44 \n\" clip-path=\"url(#pc13cea9d8a)\" style=\"fill: none; stroke: #000000; stroke-width: 4.5; stroke-linecap: square\"/>\n   </g>\n   <g id=\"line2d_41\">\n    <path d=\"M 488.985714 115.92 \nL 632.471429 43.44 \n\" clip-path=\"url(#pc13cea9d8a)\" style=\"fill: none; stroke: #000000; stroke-width: 4.2; stroke-linecap: square\"/>\n   </g>\n   <g id=\"patch_3\">\n    <path d=\"M 10.7 224.64 \nL 10.7 7.2 \n\" style=\"fill: none; stroke: #000000; stroke-width: 0.8; stroke-linejoin: miter; stroke-linecap: square\"/>\n   </g>\n   <g id=\"patch_4\">\n    <path d=\"M 680.3 224.64 \nL 680.3 7.2 \n\" style=\"fill: none; stroke: #000000; stroke-width: 0.8; stroke-linejoin: miter; stroke-linecap: square\"/>\n   </g>\n   <g id=\"patch_5\">\n    <path d=\"M 10.7 224.64 \nL 680.3 224.64 \n\" style=\"fill: none; stroke: #000000; stroke-width: 0.8; stroke-linejoin: miter; stroke-linecap: square\"/>\n   </g>\n   <g id=\"patch_6\">\n    <path d=\"M 10.7 7.2 \nL 680.3 7.2 \n\" style=\"fill: none; stroke: #000000; stroke-width: 0.8; stroke-linejoin: miter; stroke-linecap: square\"/>\n   </g>\n   <g id=\"patch_7\">\n    <path d=\"M 58.528571 185.559886 \nQ 58.528571 185.980079 58.528571 185.282237 \n\" style=\"fill: none; stroke: #000000; stroke-linecap: round\"/>\n    <path d=\"M 60.528571 181.282237 \nL 58.528571 185.282237 \nL 56.528571 181.282237 \n\" style=\"fill: none; stroke: #000000; stroke-linecap: round\"/>\n   </g>\n   <g id=\"text_6\">\n    <g id=\"patch_8\">\n     <path d=\"M 41.829353 194.4 \nL 75.22779 194.4 \nQ 81.22779 194.4 81.22779 188.4 \nL 81.22779 178.721875 \nQ 81.22779 172.721875 75.22779 172.721875 \nL 41.829353 172.721875 \nQ 35.829353 172.721875 35.829353 178.721875 \nL 35.829353 188.4 \nQ 35.829353 194.4 41.829353 194.4 \nz\n\" style=\"fill: #1e90ff; stroke: #000000; stroke-linejoin: miter\"/>\n    </g>\n    <!-- amaze -->\n    <g transform=\"translate(41.829353 186.320312)scale(0.1 -0.1)\">\n     <use xlink:href=\"#DejaVuSans-61\"/>\n     <use xlink:href=\"#DejaVuSans-6d\" x=\"61.279297\"/>\n     <use xlink:href=\"#DejaVuSans-61\" x=\"158.691406\"/>\n     <use xlink:href=\"#DejaVuSans-7a\" x=\"219.970703\"/>\n     <use xlink:href=\"#DejaVuSans-65\" x=\"272.460938\"/>\n    </g>\n   </g>\n   <g id=\"patch_9\">\n    <path d=\"M 58.528571 113.079886 \nQ 58.528571 113.500079 58.528571 112.802237 \n\" style=\"fill: none; stroke: #000000; stroke-linecap: round\"/>\n    <path d=\"M 60.528571 108.802237 \nL 58.528571 112.802237 \nL 56.528571 108.802237 \n\" style=\"fill: none; stroke: #000000; stroke-linecap: round\"/>\n   </g>\n   <g id=\"text_7\">\n    <g id=\"patch_10\">\n     <path d=\"M 41.717634 121.92 \nL 75.339509 121.92 \nQ 81.339509 121.92 81.339509 115.92 \nL 81.339509 106.241875 \nQ 81.339509 100.241875 75.339509 100.241875 \nL 41.717634 100.241875 \nQ 35.717634 100.241875 35.717634 106.241875 \nL 35.717634 115.92 \nQ 35.717634 121.92 41.717634 121.92 \nz\n\" style=\"fill: #1e90ff; stroke: #000000; stroke-linejoin: miter\"/>\n    </g>\n    <!-- lmmse -->\n    <g transform=\"translate(41.717634 113.840312)scale(0.1 -0.1)\">\n     <use xlink:href=\"#DejaVuSans-6c\"/>\n     <use xlink:href=\"#DejaVuSans-6d\" x=\"27.783203\"/>\n     <use xlink:href=\"#DejaVuSans-6d\" x=\"125.195312\"/>\n     <use xlink:href=\"#DejaVuSans-73\" x=\"222.607422\"/>\n     <use xlink:href=\"#DejaVuSans-65\" x=\"274.707031\"/>\n    </g>\n   </g>\n   <g id=\"patch_11\">\n    <path d=\"M 58.528571 40.599886 \nQ 58.528571 41.020079 58.528571 40.322237 \n\" style=\"fill: none; stroke: #000000; stroke-linecap: round\"/>\n    <path d=\"M 60.528571 36.322237 \nL 58.528571 40.322237 \nL 56.528571 36.322237 \n\" style=\"fill: none; stroke: #000000; stroke-linecap: round\"/>\n   </g>\n   <g id=\"text_8\">\n    <g id=\"patch_12\">\n     <path d=\"M 49.139509 49.44 \nL 67.917634 49.44 \nQ 73.917634 49.44 73.917634 43.44 \nL 73.917634 33.761875 \nQ 73.917634 27.761875 67.917634 27.761875 \nL 49.139509 27.761875 \nQ 43.139509 27.761875 43.139509 33.761875 \nL 43.139509 43.44 \nQ 43.139509 49.44 49.139509 49.44 \nz\n\" style=\"fill: #ff6347; stroke: #000000; stroke-linejoin: miter\"/>\n    </g>\n    <!-- fast -->\n    <g transform=\"translate(49.139509 41.360312)scale(0.1 -0.1)\">\n     <defs>\n      <path id=\"DejaVuSans-66\" d=\"M 2375 4863 \nL 2375 4384 \nL 1825 4384 \nQ 1516 4384 1395 4259 \nQ 1275 4134 1275 3809 \nL 1275 3500 \nL 2222 3500 \nL 2222 3053 \nL 1275 3053 \nL 1275 0 \nL 697 0 \nL 697 3053 \nL 147 3053 \nL 147 3500 \nL 697 3500 \nL 697 3744 \nQ 697 4328 969 4595 \nQ 1241 4863 1831 4863 \nL 2375 4863 \nz\n\" transform=\"scale(0.015625)\"/>\n     </defs>\n     <use xlink:href=\"#DejaVuSans-66\"/>\n     <use xlink:href=\"#DejaVuSans-61\" x=\"35.205078\"/>\n     <use xlink:href=\"#DejaVuSans-73\" x=\"96.484375\"/>\n     <use xlink:href=\"#DejaVuSans-74\" x=\"148.583984\"/>\n    </g>\n   </g>\n   <g id=\"patch_13\">\n    <path d=\"M 202.014286 185.559886 \nQ 202.014286 185.980079 202.014286 185.282237 \n\" style=\"fill: none; stroke: #000000; stroke-linecap: round\"/>\n    <path d=\"M 204.014286 181.282237 \nL 202.014286 185.282237 \nL 200.014286 181.282237 \n\" style=\"fill: none; stroke: #000000; stroke-linecap: round\"/>\n   </g>\n   <g id=\"text_9\">\n    <g id=\"patch_14\">\n     <path d=\"M 198.833036 194.4 \nL 205.195536 194.4 \nQ 211.195536 194.4 211.195536 188.4 \nL 211.195536 178.721875 \nQ 211.195536 172.721875 205.195536 172.721875 \nL 198.833036 172.721875 \nQ 192.833036 172.721875 192.833036 178.721875 \nL 192.833036 188.4 \nQ 192.833036 194.4 198.833036 194.4 \nz\n\" style=\"fill: #1e90ff; stroke: #000000; stroke-linejoin: miter\"/>\n    </g>\n    <!-- 0 -->\n    <g transform=\"translate(198.833036 186.320312)scale(0.1 -0.1)\">\n     <defs>\n      <path id=\"DejaVuSans-30\" d=\"M 2034 4250 \nQ 1547 4250 1301 3770 \nQ 1056 3291 1056 2328 \nQ 1056 1369 1301 889 \nQ 1547 409 2034 409 \nQ 2525 409 2770 889 \nQ 3016 1369 3016 2328 \nQ 3016 3291 2770 3770 \nQ 2525 4250 2034 4250 \nz\nM 2034 4750 \nQ 2819 4750 3233 4129 \nQ 3647 3509 3647 2328 \nQ 3647 1150 3233 529 \nQ 2819 -91 2034 -91 \nQ 1250 -91 836 529 \nQ 422 1150 422 2328 \nQ 422 3509 836 4129 \nQ 1250 4750 2034 4750 \nz\n\" transform=\"scale(0.015625)\"/>\n     </defs>\n     <use xlink:href=\"#DejaVuSans-30\"/>\n    </g>\n   </g>\n   <g id=\"patch_15\">\n    <path d=\"M 202.014286 113.079886 \nQ 202.014286 113.500079 202.014286 112.802237 \n\" style=\"fill: none; stroke: #000000; stroke-linecap: round\"/>\n    <path d=\"M 204.014286 108.802237 \nL 202.014286 112.802237 \nL 200.014286 108.802237 \n\" style=\"fill: none; stroke: #000000; stroke-linecap: round\"/>\n   </g>\n   <g id=\"text_10\">\n    <g id=\"patch_16\">\n     <path d=\"M 195.651786 121.92 \nL 208.376786 121.92 \nQ 214.376786 121.92 214.376786 115.92 \nL 214.376786 106.241875 \nQ 214.376786 100.241875 208.376786 100.241875 \nL 195.651786 100.241875 \nQ 189.651786 100.241875 189.651786 106.241875 \nL 189.651786 115.92 \nQ 189.651786 121.92 195.651786 121.92 \nz\n\" style=\"fill: #1e90ff; stroke: #000000; stroke-linejoin: miter\"/>\n    </g>\n    <!-- 50 -->\n    <g transform=\"translate(195.651786 113.840312)scale(0.1 -0.1)\">\n     <defs>\n      <path id=\"DejaVuSans-35\" d=\"M 691 4666 \nL 3169 4666 \nL 3169 4134 \nL 1269 4134 \nL 1269 2991 \nQ 1406 3038 1543 3061 \nQ 1681 3084 1819 3084 \nQ 2600 3084 3056 2656 \nQ 3513 2228 3513 1497 \nQ 3513 744 3044 326 \nQ 2575 -91 1722 -91 \nQ 1428 -91 1123 -41 \nQ 819 9 494 109 \nL 494 744 \nQ 775 591 1075 516 \nQ 1375 441 1709 441 \nQ 2250 441 2565 725 \nQ 2881 1009 2881 1497 \nQ 2881 1984 2565 2268 \nQ 2250 2553 1709 2553 \nQ 1456 2553 1204 2497 \nQ 953 2441 691 2322 \nL 691 4666 \nz\n\" transform=\"scale(0.015625)\"/>\n     </defs>\n     <use xlink:href=\"#DejaVuSans-35\"/>\n     <use xlink:href=\"#DejaVuSans-30\" x=\"63.623047\"/>\n    </g>\n   </g>\n   <g id=\"patch_17\">\n    <path d=\"M 202.014286 40.599886 \nQ 202.014286 41.020079 202.014286 40.322237 \n\" style=\"fill: none; stroke: #000000; stroke-linecap: round\"/>\n    <path d=\"M 204.014286 36.322237 \nL 202.014286 40.322237 \nL 200.014286 36.322237 \n\" style=\"fill: none; stroke: #000000; stroke-linecap: round\"/>\n   </g>\n   <g id=\"text_11\">\n    <g id=\"patch_18\">\n     <path d=\"M 192.470536 49.44 \nL 211.558036 49.44 \nQ 217.558036 49.44 217.558036 43.44 \nL 217.558036 33.761875 \nQ 217.558036 27.761875 211.558036 27.761875 \nL 192.470536 27.761875 \nQ 186.470536 27.761875 186.470536 33.761875 \nL 186.470536 43.44 \nQ 186.470536 49.44 192.470536 49.44 \nz\n\" style=\"fill: #ff6347; stroke: #000000; stroke-linejoin: miter\"/>\n    </g>\n    <!-- 100 -->\n    <g transform=\"translate(192.470536 41.360312)scale(0.1 -0.1)\">\n     <defs>\n      <path id=\"DejaVuSans-31\" d=\"M 794 531 \nL 1825 531 \nL 1825 4091 \nL 703 3866 \nL 703 4441 \nL 1819 4666 \nL 2450 4666 \nL 2450 531 \nL 3481 531 \nL 3481 0 \nL 794 0 \nL 794 531 \nz\n\" transform=\"scale(0.015625)\"/>\n     </defs>\n     <use xlink:href=\"#DejaVuSans-31\"/>\n     <use xlink:href=\"#DejaVuSans-30\" x=\"63.623047\"/>\n     <use xlink:href=\"#DejaVuSans-30\" x=\"127.246094\"/>\n    </g>\n   </g>\n   <g id=\"patch_19\">\n    <path d=\"M 345.5 185.559886 \nQ 345.5 185.980079 345.5 185.282237 \n\" style=\"fill: none; stroke: #000000; stroke-linecap: round\"/>\n    <path d=\"M 347.5 181.282237 \nL 345.5 185.282237 \nL 343.5 181.282237 \n\" style=\"fill: none; stroke: #000000; stroke-linecap: round\"/>\n   </g>\n   <g id=\"text_12\">\n    <g id=\"patch_20\">\n     <path d=\"M 342.31875 194.4 \nL 348.68125 194.4 \nQ 354.68125 194.4 354.68125 188.4 \nL 354.68125 178.721875 \nQ 354.68125 172.721875 348.68125 172.721875 \nL 342.31875 172.721875 \nQ 336.31875 172.721875 336.31875 178.721875 \nL 336.31875 188.4 \nQ 336.31875 194.4 342.31875 194.4 \nz\n\" style=\"fill: #1e90ff; stroke: #000000; stroke-linejoin: miter\"/>\n    </g>\n    <!-- 0 -->\n    <g transform=\"translate(342.31875 186.320312)scale(0.1 -0.1)\">\n     <use xlink:href=\"#DejaVuSans-30\"/>\n    </g>\n   </g>\n   <g id=\"patch_21\">\n    <path d=\"M 345.5 113.079886 \nQ 345.5 113.500079 345.5 112.802237 \n\" style=\"fill: none; stroke: #000000; stroke-linecap: round\"/>\n    <path d=\"M 347.5 108.802237 \nL 345.5 112.802237 \nL 343.5 108.802237 \n\" style=\"fill: none; stroke: #000000; stroke-linecap: round\"/>\n   </g>\n   <g id=\"text_13\">\n    <g id=\"patch_22\">\n     <path d=\"M 339.1375 121.92 \nL 351.8625 121.92 \nQ 357.8625 121.92 357.8625 115.92 \nL 357.8625 106.241875 \nQ 357.8625 100.241875 351.8625 100.241875 \nL 339.1375 100.241875 \nQ 333.1375 100.241875 333.1375 106.241875 \nL 333.1375 115.92 \nQ 333.1375 121.92 339.1375 121.92 \nz\n\" style=\"fill: #ff6347; stroke: #000000; stroke-linejoin: miter\"/>\n    </g>\n    <!-- 50 -->\n    <g transform=\"translate(339.1375 113.840312)scale(0.1 -0.1)\">\n     <use xlink:href=\"#DejaVuSans-35\"/>\n     <use xlink:href=\"#DejaVuSans-30\" x=\"63.623047\"/>\n    </g>\n   </g>\n   <g id=\"patch_23\">\n    <path d=\"M 345.5 40.599886 \nQ 345.5 41.020079 345.5 40.322237 \n\" style=\"fill: none; stroke: #000000; stroke-linecap: round\"/>\n    <path d=\"M 347.5 36.322237 \nL 345.5 40.322237 \nL 343.5 36.322237 \n\" style=\"fill: none; stroke: #000000; stroke-linecap: round\"/>\n   </g>\n   <g id=\"text_14\">\n    <g id=\"patch_24\">\n     <path d=\"M 335.95625 49.44 \nL 355.04375 49.44 \nQ 361.04375 49.44 361.04375 43.44 \nL 361.04375 33.761875 \nQ 361.04375 27.761875 355.04375 27.761875 \nL 335.95625 27.761875 \nQ 329.95625 27.761875 329.95625 33.761875 \nL 329.95625 43.44 \nQ 329.95625 49.44 335.95625 49.44 \nz\n\" style=\"fill: #1e90ff; stroke: #000000; stroke-linejoin: miter\"/>\n    </g>\n    <!-- 100 -->\n    <g transform=\"translate(335.95625 41.360312)scale(0.1 -0.1)\">\n     <use xlink:href=\"#DejaVuSans-31\"/>\n     <use xlink:href=\"#DejaVuSans-30\" x=\"63.623047\"/>\n     <use xlink:href=\"#DejaVuSans-30\" x=\"127.246094\"/>\n    </g>\n   </g>\n   <g id=\"patch_25\">\n    <path d=\"M 488.985714 185.559886 \nQ 488.985714 185.980079 488.985714 185.282237 \n\" style=\"fill: none; stroke: #000000; stroke-linecap: round\"/>\n    <path d=\"M 490.985714 181.282237 \nL 488.985714 185.282237 \nL 486.985714 181.282237 \n\" style=\"fill: none; stroke: #000000; stroke-linecap: round\"/>\n   </g>\n   <g id=\"text_15\">\n    <g id=\"patch_26\">\n     <path d=\"M 477.852902 194.4 \nL 500.118527 194.4 \nQ 506.118527 194.4 506.118527 188.4 \nL 506.118527 178.721875 \nQ 506.118527 172.721875 500.118527 172.721875 \nL 477.852902 172.721875 \nQ 471.852902 172.721875 471.852902 178.721875 \nL 471.852902 188.4 \nQ 471.852902 194.4 477.852902 194.4 \nz\n\" style=\"fill: #1e90ff; stroke: #000000; stroke-linejoin: miter\"/>\n    </g>\n    <!-- 0.15 -->\n    <g transform=\"translate(477.852902 186.320312)scale(0.1 -0.1)\">\n     <defs>\n      <path id=\"DejaVuSans-2e\" d=\"M 684 794 \nL 1344 794 \nL 1344 0 \nL 684 0 \nL 684 794 \nz\n\" transform=\"scale(0.015625)\"/>\n     </defs>\n     <use xlink:href=\"#DejaVuSans-30\"/>\n     <use xlink:href=\"#DejaVuSans-2e\" x=\"63.623047\"/>\n     <use xlink:href=\"#DejaVuSans-31\" x=\"95.410156\"/>\n     <use xlink:href=\"#DejaVuSans-35\" x=\"159.033203\"/>\n    </g>\n   </g>\n   <g id=\"patch_27\">\n    <path d=\"M 488.985714 113.079886 \nQ 488.985714 113.500079 488.985714 112.802237 \n\" style=\"fill: none; stroke: #000000; stroke-linecap: round\"/>\n    <path d=\"M 490.985714 108.802237 \nL 488.985714 112.802237 \nL 486.985714 108.802237 \n\" style=\"fill: none; stroke: #000000; stroke-linecap: round\"/>\n   </g>\n   <g id=\"text_16\">\n    <g id=\"patch_28\">\n     <path d=\"M 477.852902 121.92 \nL 500.118527 121.92 \nQ 506.118527 121.92 506.118527 115.92 \nL 506.118527 106.241875 \nQ 506.118527 100.241875 500.118527 100.241875 \nL 477.852902 100.241875 \nQ 471.852902 100.241875 471.852902 106.241875 \nL 471.852902 115.92 \nQ 471.852902 121.92 477.852902 121.92 \nz\n\" style=\"fill: #1e90ff; stroke: #000000; stroke-linejoin: miter\"/>\n    </g>\n    <!-- 0.25 -->\n    <g transform=\"translate(477.852902 113.840312)scale(0.1 -0.1)\">\n     <defs>\n      <path id=\"DejaVuSans-32\" d=\"M 1228 531 \nL 3431 531 \nL 3431 0 \nL 469 0 \nL 469 531 \nQ 828 903 1448 1529 \nQ 2069 2156 2228 2338 \nQ 2531 2678 2651 2914 \nQ 2772 3150 2772 3378 \nQ 2772 3750 2511 3984 \nQ 2250 4219 1831 4219 \nQ 1534 4219 1204 4116 \nQ 875 4013 500 3803 \nL 500 4441 \nQ 881 4594 1212 4672 \nQ 1544 4750 1819 4750 \nQ 2544 4750 2975 4387 \nQ 3406 4025 3406 3419 \nQ 3406 3131 3298 2873 \nQ 3191 2616 2906 2266 \nQ 2828 2175 2409 1742 \nQ 1991 1309 1228 531 \nz\n\" transform=\"scale(0.015625)\"/>\n     </defs>\n     <use xlink:href=\"#DejaVuSans-30\"/>\n     <use xlink:href=\"#DejaVuSans-2e\" x=\"63.623047\"/>\n     <use xlink:href=\"#DejaVuSans-32\" x=\"95.410156\"/>\n     <use xlink:href=\"#DejaVuSans-35\" x=\"159.033203\"/>\n    </g>\n   </g>\n   <g id=\"patch_29\">\n    <path d=\"M 488.985714 40.599886 \nQ 488.985714 41.020079 488.985714 40.322237 \n\" style=\"fill: none; stroke: #000000; stroke-linecap: round\"/>\n    <path d=\"M 490.985714 36.322237 \nL 488.985714 40.322237 \nL 486.985714 36.322237 \n\" style=\"fill: none; stroke: #000000; stroke-linecap: round\"/>\n   </g>\n   <g id=\"text_17\">\n    <g id=\"patch_30\">\n     <path d=\"M 481.034152 49.44 \nL 496.937277 49.44 \nQ 502.937277 49.44 502.937277 43.44 \nL 502.937277 33.761875 \nQ 502.937277 27.761875 496.937277 27.761875 \nL 481.034152 27.761875 \nQ 475.034152 27.761875 475.034152 33.761875 \nL 475.034152 43.44 \nQ 475.034152 49.44 481.034152 49.44 \nz\n\" style=\"fill: #ff6347; stroke: #000000; stroke-linejoin: miter\"/>\n    </g>\n    <!-- 1.0 -->\n    <g transform=\"translate(481.034152 41.360312)scale(0.1 -0.1)\">\n     <use xlink:href=\"#DejaVuSans-31\"/>\n     <use xlink:href=\"#DejaVuSans-2e\" x=\"63.623047\"/>\n     <use xlink:href=\"#DejaVuSans-30\" x=\"95.410156\"/>\n    </g>\n   </g>\n   <g id=\"patch_31\">\n    <path d=\"M 632.471429 185.559886 \nQ 632.471429 185.980079 632.471429 185.282237 \n\" style=\"fill: none; stroke: #000000; stroke-linecap: round\"/>\n    <path d=\"M 634.471429 181.282237 \nL 632.471429 185.282237 \nL 630.471429 181.282237 \n\" style=\"fill: none; stroke: #000000; stroke-linecap: round\"/>\n   </g>\n   <g id=\"text_18\">\n    <g id=\"patch_32\">\n     <path d=\"M 629.290179 194.4 \nL 635.652679 194.4 \nQ 641.652679 194.4 641.652679 188.4 \nL 641.652679 178.721875 \nQ 641.652679 172.721875 635.652679 172.721875 \nL 629.290179 172.721875 \nQ 623.290179 172.721875 623.290179 178.721875 \nL 623.290179 188.4 \nQ 623.290179 194.4 629.290179 194.4 \nz\n\" style=\"fill: #1e90ff; stroke: #000000; stroke-linejoin: miter\"/>\n    </g>\n    <!-- 0 -->\n    <g transform=\"translate(629.290179 186.320312)scale(0.1 -0.1)\">\n     <use xlink:href=\"#DejaVuSans-30\"/>\n    </g>\n   </g>\n   <g id=\"patch_33\">\n    <path d=\"M 632.471429 113.079886 \nQ 632.471429 113.500079 632.471429 112.802237 \n\" style=\"fill: none; stroke: #000000; stroke-linecap: round\"/>\n    <path d=\"M 634.471429 108.802237 \nL 632.471429 112.802237 \nL 630.471429 108.802237 \n\" style=\"fill: none; stroke: #000000; stroke-linecap: round\"/>\n   </g>\n   <g id=\"text_19\">\n    <g id=\"patch_34\">\n     <path d=\"M 624.519866 121.92 \nL 640.422991 121.92 \nQ 646.422991 121.92 646.422991 115.92 \nL 646.422991 106.241875 \nQ 646.422991 100.241875 640.422991 100.241875 \nL 624.519866 100.241875 \nQ 618.519866 100.241875 618.519866 106.241875 \nL 618.519866 115.92 \nQ 618.519866 121.92 624.519866 121.92 \nz\n\" style=\"fill: #1e90ff; stroke: #000000; stroke-linejoin: miter\"/>\n    </g>\n    <!-- 1.5 -->\n    <g transform=\"translate(624.519866 113.840312)scale(0.1 -0.1)\">\n     <use xlink:href=\"#DejaVuSans-31\"/>\n     <use xlink:href=\"#DejaVuSans-2e\" x=\"63.623047\"/>\n     <use xlink:href=\"#DejaVuSans-35\" x=\"95.410156\"/>\n    </g>\n   </g>\n   <g id=\"patch_35\">\n    <path d=\"M 632.471429 40.599886 \nQ 632.471429 41.020079 632.471429 40.322237 \n\" style=\"fill: none; stroke: #000000; stroke-linecap: round\"/>\n    <path d=\"M 634.471429 36.322237 \nL 632.471429 40.322237 \nL 630.471429 36.322237 \n\" style=\"fill: none; stroke: #000000; stroke-linecap: round\"/>\n   </g>\n   <g id=\"text_20\">\n    <g id=\"patch_36\">\n     <path d=\"M 629.290179 49.44 \nL 635.652679 49.44 \nQ 641.652679 49.44 641.652679 43.44 \nL 641.652679 33.761875 \nQ 641.652679 27.761875 635.652679 27.761875 \nL 629.290179 27.761875 \nQ 623.290179 27.761875 623.290179 33.761875 \nL 623.290179 43.44 \nQ 623.290179 49.44 629.290179 49.44 \nz\n\" style=\"fill: #ff6347; stroke: #000000; stroke-linejoin: miter\"/>\n    </g>\n    <!-- 3 -->\n    <g transform=\"translate(629.290179 41.360312)scale(0.1 -0.1)\">\n     <defs>\n      <path id=\"DejaVuSans-33\" d=\"M 2597 2516 \nQ 3050 2419 3304 2112 \nQ 3559 1806 3559 1356 \nQ 3559 666 3084 287 \nQ 2609 -91 1734 -91 \nQ 1441 -91 1130 -33 \nQ 819 25 488 141 \nL 488 750 \nQ 750 597 1062 519 \nQ 1375 441 1716 441 \nQ 2309 441 2620 675 \nQ 2931 909 2931 1356 \nQ 2931 1769 2642 2001 \nQ 2353 2234 1838 2234 \nL 1294 2234 \nL 1294 2753 \nL 1863 2753 \nQ 2328 2753 2575 2939 \nQ 2822 3125 2822 3475 \nQ 2822 3834 2567 4026 \nQ 2313 4219 1838 4219 \nQ 1578 4219 1281 4162 \nQ 984 4106 628 3988 \nL 628 4550 \nQ 988 4650 1302 4700 \nQ 1616 4750 1894 4750 \nQ 2613 4750 3031 4423 \nQ 3450 4097 3450 3541 \nQ 3450 3153 3228 2886 \nQ 3006 2619 2597 2516 \nz\n\" transform=\"scale(0.015625)\"/>\n     </defs>\n     <use xlink:href=\"#DejaVuSans-33\"/>\n    </g>\n   </g>\n  </g>\n </g>\n <defs>\n  <clipPath id=\"pc13cea9d8a\">\n   <rect x=\"10.7\" y=\"7.2\" width=\"669.6\" height=\"217.44\"/>\n  </clipPath>\n </defs>\n</svg>\n",
      "text/plain": [
       "<Figure size 864x288 with 1 Axes>"
      ]
     },
     "metadata": {
      "needs_background": "light"
     },
     "output_type": "display_data"
    }
   ],
   "source": [
    "cluster_to_graph(229,current_labels)"
   ]
  },
  {
   "cell_type": "markdown",
   "id": "29bff91b",
   "metadata": {},
   "source": [
    "In red, you have the parameters of the representative. Here it's ```229``` and you can check above that they are matching with the content of the table ```pipelines.csv```.\n",
    "\n",
    "In green, you have the most represented links between all the pairs of links possible at each stage. For instance, among all the existing pairs (Demosaicking,Denoising), 3 of them are equally represented and preponderant in the cluster.\n",
    "\n",
    "The more the lines are thick, the more the link associated is represented within the cluster.\n",
    "\n",
    "In this specific cluster, we can observe that the majority of the sources involved are denoised with a significant denoising factor.\n",
    "\n",
    "### III - Parameters importance\n",
    "\n",
    "In the paper, we also proposed to assess the importance of the pipeline parameters in the CSM according to their discriminative power if we are using them to deduce the assignement of clusters.\n",
    "\n",
    "This is done using a RandomForest algorithm taken as input a dataset with the pipeline parameters as features and the corresponding representatives as targets.\n",
    "\n",
    "You can test it just like we did using the covering obtain with $\\epsilon=1%$ and the function ```parameter_importance```\n",
    "\n",
    "If you plot that graph with $\\epsilon$ reasonably low (<10%), you will see that ```Denoising```,```DownSampling``` and ```PostResizeSharpening``` are the most discriminative parameters and hence, the most impactful for the CSM.\n"
   ]
  },
  {
   "cell_type": "code",
   "execution_count": 163,
   "id": "6654a107-a9c4-41a0-927e-5f3e18da3f51",
   "metadata": {},
   "outputs": [
    {
     "name": "stdout",
     "output_type": "stream",
     "text": [
      "Max max regrets :  0.99\n",
      "Minimum number of sources for the optimal covering : 7.0\n"
     ]
    },
    {
     "data": {
      "image/svg+xml": "<?xml version=\"1.0\" encoding=\"utf-8\" standalone=\"no\"?>\n<!DOCTYPE svg PUBLIC \"-//W3C//DTD SVG 1.1//EN\"\n  \"http://www.w3.org/Graphics/SVG/1.1/DTD/svg11.dtd\">\n<svg xmlns:xlink=\"http://www.w3.org/1999/xlink\" width=\"425.109375pt\" height=\"208.076562pt\" viewBox=\"0 0 425.109375 208.076562\" xmlns=\"http://www.w3.org/2000/svg\" version=\"1.1\">\n <metadata>\n  <rdf:RDF xmlns:dc=\"http://purl.org/dc/elements/1.1/\" xmlns:cc=\"http://creativecommons.org/ns#\" xmlns:rdf=\"http://www.w3.org/1999/02/22-rdf-syntax-ns#\">\n   <cc:Work>\n    <dc:type rdf:resource=\"http://purl.org/dc/dcmitype/StillImage\"/>\n    <dc:date>2022-10-19T16:25:03.000236</dc:date>\n    <dc:format>image/svg+xml</dc:format>\n    <dc:creator>\n     <cc:Agent>\n      <dc:title>Matplotlib v3.5.2, https://matplotlib.org/</dc:title>\n     </cc:Agent>\n    </dc:creator>\n   </cc:Work>\n  </rdf:RDF>\n </metadata>\n <defs>\n  <style type=\"text/css\">*{stroke-linejoin: round; stroke-linecap: butt}</style>\n </defs>\n <g id=\"figure_1\">\n  <g id=\"patch_1\">\n   <path d=\"M 0 208.076562 \nL 425.109375 208.076562 \nL 425.109375 0 \nL 0 0 \nL 0 208.076562 \nz\n\" style=\"fill: none\"/>\n  </g>\n  <g id=\"axes_1\">\n   <g id=\"patch_2\">\n    <path d=\"M 124.384375 184.198437 \nL 367.909375 184.198437 \nL 367.909375 20.798438 \nL 124.384375 20.798438 \nz\n\" style=\"fill: #ffffff\"/>\n   </g>\n   <g id=\"patch_3\">\n    <path d=\"M 124.384375 176.771165 \nL 318.324529 176.771165 \nL 318.324529 152.013589 \nL 124.384375 152.013589 \nz\n\" clip-path=\"url(#p7588e910af)\" style=\"fill: #1e90ff; opacity: 0.8; stroke: #000000; stroke-linejoin: miter\"/>\n   </g>\n   <g id=\"patch_4\">\n    <path d=\"M 124.384375 145.824195 \nL 309.721575 145.824195 \nL 309.721575 121.066619 \nL 124.384375 121.066619 \nz\n\" clip-path=\"url(#p7588e910af)\" style=\"fill: #1e90ff; opacity: 0.8; stroke: #000000; stroke-linejoin: miter\"/>\n   </g>\n   <g id=\"patch_5\">\n    <path d=\"M 124.384375 114.877225 \nL 212.143787 114.877225 \nL 212.143787 90.11965 \nL 124.384375 90.11965 \nz\n\" clip-path=\"url(#p7588e910af)\" style=\"fill: #1e90ff; opacity: 0.8; stroke: #000000; stroke-linejoin: miter\"/>\n   </g>\n   <g id=\"patch_6\">\n    <path d=\"M 124.384375 83.930256 \nL 356.312946 83.930256 \nL 356.312946 59.17268 \nL 124.384375 59.17268 \nz\n\" clip-path=\"url(#p7588e910af)\" style=\"fill: #1e90ff; opacity: 0.8; stroke: #000000; stroke-linejoin: miter\"/>\n   </g>\n   <g id=\"patch_7\">\n    <path d=\"M 124.384375 52.983286 \nL 212.347616 52.983286 \nL 212.347616 28.22571 \nL 124.384375 28.22571 \nz\n\" clip-path=\"url(#p7588e910af)\" style=\"fill: #1e90ff; opacity: 0.8; stroke: #000000; stroke-linejoin: miter\"/>\n   </g>\n   <g id=\"matplotlib.axis_1\">\n    <g id=\"xtick_1\">\n     <g id=\"line2d_1\">\n      <defs>\n       <path id=\"m71d6344b9b\" d=\"M 0 0 \nL 0 3.5 \n\" style=\"stroke: #000000; stroke-width: 0.8\"/>\n      </defs>\n      <g>\n       <use xlink:href=\"#m71d6344b9b\" x=\"124.384375\" y=\"184.198437\" style=\"stroke: #000000; stroke-width: 0.8\"/>\n      </g>\n     </g>\n     <g id=\"text_1\">\n      <!-- 0.00 -->\n      <g transform=\"translate(113.251563 198.796875)scale(0.1 -0.1)\">\n       <defs>\n        <path id=\"DejaVuSans-30\" d=\"M 2034 4250 \nQ 1547 4250 1301 3770 \nQ 1056 3291 1056 2328 \nQ 1056 1369 1301 889 \nQ 1547 409 2034 409 \nQ 2525 409 2770 889 \nQ 3016 1369 3016 2328 \nQ 3016 3291 2770 3770 \nQ 2525 4250 2034 4250 \nz\nM 2034 4750 \nQ 2819 4750 3233 4129 \nQ 3647 3509 3647 2328 \nQ 3647 1150 3233 529 \nQ 2819 -91 2034 -91 \nQ 1250 -91 836 529 \nQ 422 1150 422 2328 \nQ 422 3509 836 4129 \nQ 1250 4750 2034 4750 \nz\n\" transform=\"scale(0.015625)\"/>\n        <path id=\"DejaVuSans-2e\" d=\"M 684 794 \nL 1344 794 \nL 1344 0 \nL 684 0 \nL 684 794 \nz\n\" transform=\"scale(0.015625)\"/>\n       </defs>\n       <use xlink:href=\"#DejaVuSans-30\"/>\n       <use xlink:href=\"#DejaVuSans-2e\" x=\"63.623047\"/>\n       <use xlink:href=\"#DejaVuSans-30\" x=\"95.410156\"/>\n       <use xlink:href=\"#DejaVuSans-30\" x=\"159.033203\"/>\n      </g>\n     </g>\n    </g>\n    <g id=\"xtick_2\">\n     <g id=\"line2d_2\">\n      <g>\n       <use xlink:href=\"#m71d6344b9b\" x=\"163.730804\" y=\"184.198437\" style=\"stroke: #000000; stroke-width: 0.8\"/>\n      </g>\n     </g>\n     <g id=\"text_2\">\n      <!-- 0.05 -->\n      <g transform=\"translate(152.597991 198.796875)scale(0.1 -0.1)\">\n       <defs>\n        <path id=\"DejaVuSans-35\" d=\"M 691 4666 \nL 3169 4666 \nL 3169 4134 \nL 1269 4134 \nL 1269 2991 \nQ 1406 3038 1543 3061 \nQ 1681 3084 1819 3084 \nQ 2600 3084 3056 2656 \nQ 3513 2228 3513 1497 \nQ 3513 744 3044 326 \nQ 2575 -91 1722 -91 \nQ 1428 -91 1123 -41 \nQ 819 9 494 109 \nL 494 744 \nQ 775 591 1075 516 \nQ 1375 441 1709 441 \nQ 2250 441 2565 725 \nQ 2881 1009 2881 1497 \nQ 2881 1984 2565 2268 \nQ 2250 2553 1709 2553 \nQ 1456 2553 1204 2497 \nQ 953 2441 691 2322 \nL 691 4666 \nz\n\" transform=\"scale(0.015625)\"/>\n       </defs>\n       <use xlink:href=\"#DejaVuSans-30\"/>\n       <use xlink:href=\"#DejaVuSans-2e\" x=\"63.623047\"/>\n       <use xlink:href=\"#DejaVuSans-30\" x=\"95.410156\"/>\n       <use xlink:href=\"#DejaVuSans-35\" x=\"159.033203\"/>\n      </g>\n     </g>\n    </g>\n    <g id=\"xtick_3\">\n     <g id=\"line2d_3\">\n      <g>\n       <use xlink:href=\"#m71d6344b9b\" x=\"203.077233\" y=\"184.198437\" style=\"stroke: #000000; stroke-width: 0.8\"/>\n      </g>\n     </g>\n     <g id=\"text_3\">\n      <!-- 0.10 -->\n      <g transform=\"translate(191.94442 198.796875)scale(0.1 -0.1)\">\n       <defs>\n        <path id=\"DejaVuSans-31\" d=\"M 794 531 \nL 1825 531 \nL 1825 4091 \nL 703 3866 \nL 703 4441 \nL 1819 4666 \nL 2450 4666 \nL 2450 531 \nL 3481 531 \nL 3481 0 \nL 794 0 \nL 794 531 \nz\n\" transform=\"scale(0.015625)\"/>\n       </defs>\n       <use xlink:href=\"#DejaVuSans-30\"/>\n       <use xlink:href=\"#DejaVuSans-2e\" x=\"63.623047\"/>\n       <use xlink:href=\"#DejaVuSans-31\" x=\"95.410156\"/>\n       <use xlink:href=\"#DejaVuSans-30\" x=\"159.033203\"/>\n      </g>\n     </g>\n    </g>\n    <g id=\"xtick_4\">\n     <g id=\"line2d_4\">\n      <g>\n       <use xlink:href=\"#m71d6344b9b\" x=\"242.423662\" y=\"184.198437\" style=\"stroke: #000000; stroke-width: 0.8\"/>\n      </g>\n     </g>\n     <g id=\"text_4\">\n      <!-- 0.15 -->\n      <g transform=\"translate(231.290849 198.796875)scale(0.1 -0.1)\">\n       <use xlink:href=\"#DejaVuSans-30\"/>\n       <use xlink:href=\"#DejaVuSans-2e\" x=\"63.623047\"/>\n       <use xlink:href=\"#DejaVuSans-31\" x=\"95.410156\"/>\n       <use xlink:href=\"#DejaVuSans-35\" x=\"159.033203\"/>\n      </g>\n     </g>\n    </g>\n    <g id=\"xtick_5\">\n     <g id=\"line2d_5\">\n      <g>\n       <use xlink:href=\"#m71d6344b9b\" x=\"281.77009\" y=\"184.198437\" style=\"stroke: #000000; stroke-width: 0.8\"/>\n      </g>\n     </g>\n     <g id=\"text_5\">\n      <!-- 0.20 -->\n      <g transform=\"translate(270.637278 198.796875)scale(0.1 -0.1)\">\n       <defs>\n        <path id=\"DejaVuSans-32\" d=\"M 1228 531 \nL 3431 531 \nL 3431 0 \nL 469 0 \nL 469 531 \nQ 828 903 1448 1529 \nQ 2069 2156 2228 2338 \nQ 2531 2678 2651 2914 \nQ 2772 3150 2772 3378 \nQ 2772 3750 2511 3984 \nQ 2250 4219 1831 4219 \nQ 1534 4219 1204 4116 \nQ 875 4013 500 3803 \nL 500 4441 \nQ 881 4594 1212 4672 \nQ 1544 4750 1819 4750 \nQ 2544 4750 2975 4387 \nQ 3406 4025 3406 3419 \nQ 3406 3131 3298 2873 \nQ 3191 2616 2906 2266 \nQ 2828 2175 2409 1742 \nQ 1991 1309 1228 531 \nz\n\" transform=\"scale(0.015625)\"/>\n       </defs>\n       <use xlink:href=\"#DejaVuSans-30\"/>\n       <use xlink:href=\"#DejaVuSans-2e\" x=\"63.623047\"/>\n       <use xlink:href=\"#DejaVuSans-32\" x=\"95.410156\"/>\n       <use xlink:href=\"#DejaVuSans-30\" x=\"159.033203\"/>\n      </g>\n     </g>\n    </g>\n    <g id=\"xtick_6\">\n     <g id=\"line2d_6\">\n      <g>\n       <use xlink:href=\"#m71d6344b9b\" x=\"321.116519\" y=\"184.198437\" style=\"stroke: #000000; stroke-width: 0.8\"/>\n      </g>\n     </g>\n     <g id=\"text_6\">\n      <!-- 0.25 -->\n      <g transform=\"translate(309.983707 198.796875)scale(0.1 -0.1)\">\n       <use xlink:href=\"#DejaVuSans-30\"/>\n       <use xlink:href=\"#DejaVuSans-2e\" x=\"63.623047\"/>\n       <use xlink:href=\"#DejaVuSans-32\" x=\"95.410156\"/>\n       <use xlink:href=\"#DejaVuSans-35\" x=\"159.033203\"/>\n      </g>\n     </g>\n    </g>\n    <g id=\"xtick_7\">\n     <g id=\"line2d_7\">\n      <g>\n       <use xlink:href=\"#m71d6344b9b\" x=\"360.462948\" y=\"184.198437\" style=\"stroke: #000000; stroke-width: 0.8\"/>\n      </g>\n     </g>\n     <g id=\"text_7\">\n      <!-- 0.30 -->\n      <g transform=\"translate(349.330136 198.796875)scale(0.1 -0.1)\">\n       <defs>\n        <path id=\"DejaVuSans-33\" d=\"M 2597 2516 \nQ 3050 2419 3304 2112 \nQ 3559 1806 3559 1356 \nQ 3559 666 3084 287 \nQ 2609 -91 1734 -91 \nQ 1441 -91 1130 -33 \nQ 819 25 488 141 \nL 488 750 \nQ 750 597 1062 519 \nQ 1375 441 1716 441 \nQ 2309 441 2620 675 \nQ 2931 909 2931 1356 \nQ 2931 1769 2642 2001 \nQ 2353 2234 1838 2234 \nL 1294 2234 \nL 1294 2753 \nL 1863 2753 \nQ 2328 2753 2575 2939 \nQ 2822 3125 2822 3475 \nQ 2822 3834 2567 4026 \nQ 2313 4219 1838 4219 \nQ 1578 4219 1281 4162 \nQ 984 4106 628 3988 \nL 628 4550 \nQ 988 4650 1302 4700 \nQ 1616 4750 1894 4750 \nQ 2613 4750 3031 4423 \nQ 3450 4097 3450 3541 \nQ 3450 3153 3228 2886 \nQ 3006 2619 2597 2516 \nz\n\" transform=\"scale(0.015625)\"/>\n       </defs>\n       <use xlink:href=\"#DejaVuSans-30\"/>\n       <use xlink:href=\"#DejaVuSans-2e\" x=\"63.623047\"/>\n       <use xlink:href=\"#DejaVuSans-33\" x=\"95.410156\"/>\n       <use xlink:href=\"#DejaVuSans-30\" x=\"159.033203\"/>\n      </g>\n     </g>\n    </g>\n   </g>\n   <g id=\"matplotlib.axis_2\">\n    <g id=\"ytick_1\">\n     <g id=\"line2d_8\">\n      <defs>\n       <path id=\"me552249f53\" d=\"M 0 0 \nL -3.5 0 \n\" style=\"stroke: #000000; stroke-width: 0.8\"/>\n      </defs>\n      <g>\n       <use xlink:href=\"#me552249f53\" x=\"124.384375\" y=\"164.392377\" style=\"stroke: #000000; stroke-width: 0.8\"/>\n      </g>\n     </g>\n     <g id=\"text_8\">\n      <!-- PostResizeSharpening -->\n      <g transform=\"translate(7.2 168.191596)scale(0.1 -0.1)\">\n       <defs>\n        <path id=\"DejaVuSans-50\" d=\"M 1259 4147 \nL 1259 2394 \nL 2053 2394 \nQ 2494 2394 2734 2622 \nQ 2975 2850 2975 3272 \nQ 2975 3691 2734 3919 \nQ 2494 4147 2053 4147 \nL 1259 4147 \nz\nM 628 4666 \nL 2053 4666 \nQ 2838 4666 3239 4311 \nQ 3641 3956 3641 3272 \nQ 3641 2581 3239 2228 \nQ 2838 1875 2053 1875 \nL 1259 1875 \nL 1259 0 \nL 628 0 \nL 628 4666 \nz\n\" transform=\"scale(0.015625)\"/>\n        <path id=\"DejaVuSans-6f\" d=\"M 1959 3097 \nQ 1497 3097 1228 2736 \nQ 959 2375 959 1747 \nQ 959 1119 1226 758 \nQ 1494 397 1959 397 \nQ 2419 397 2687 759 \nQ 2956 1122 2956 1747 \nQ 2956 2369 2687 2733 \nQ 2419 3097 1959 3097 \nz\nM 1959 3584 \nQ 2709 3584 3137 3096 \nQ 3566 2609 3566 1747 \nQ 3566 888 3137 398 \nQ 2709 -91 1959 -91 \nQ 1206 -91 779 398 \nQ 353 888 353 1747 \nQ 353 2609 779 3096 \nQ 1206 3584 1959 3584 \nz\n\" transform=\"scale(0.015625)\"/>\n        <path id=\"DejaVuSans-73\" d=\"M 2834 3397 \nL 2834 2853 \nQ 2591 2978 2328 3040 \nQ 2066 3103 1784 3103 \nQ 1356 3103 1142 2972 \nQ 928 2841 928 2578 \nQ 928 2378 1081 2264 \nQ 1234 2150 1697 2047 \nL 1894 2003 \nQ 2506 1872 2764 1633 \nQ 3022 1394 3022 966 \nQ 3022 478 2636 193 \nQ 2250 -91 1575 -91 \nQ 1294 -91 989 -36 \nQ 684 19 347 128 \nL 347 722 \nQ 666 556 975 473 \nQ 1284 391 1588 391 \nQ 1994 391 2212 530 \nQ 2431 669 2431 922 \nQ 2431 1156 2273 1281 \nQ 2116 1406 1581 1522 \nL 1381 1569 \nQ 847 1681 609 1914 \nQ 372 2147 372 2553 \nQ 372 3047 722 3315 \nQ 1072 3584 1716 3584 \nQ 2034 3584 2315 3537 \nQ 2597 3491 2834 3397 \nz\n\" transform=\"scale(0.015625)\"/>\n        <path id=\"DejaVuSans-74\" d=\"M 1172 4494 \nL 1172 3500 \nL 2356 3500 \nL 2356 3053 \nL 1172 3053 \nL 1172 1153 \nQ 1172 725 1289 603 \nQ 1406 481 1766 481 \nL 2356 481 \nL 2356 0 \nL 1766 0 \nQ 1100 0 847 248 \nQ 594 497 594 1153 \nL 594 3053 \nL 172 3053 \nL 172 3500 \nL 594 3500 \nL 594 4494 \nL 1172 4494 \nz\n\" transform=\"scale(0.015625)\"/>\n        <path id=\"DejaVuSans-52\" d=\"M 2841 2188 \nQ 3044 2119 3236 1894 \nQ 3428 1669 3622 1275 \nL 4263 0 \nL 3584 0 \nL 2988 1197 \nQ 2756 1666 2539 1819 \nQ 2322 1972 1947 1972 \nL 1259 1972 \nL 1259 0 \nL 628 0 \nL 628 4666 \nL 2053 4666 \nQ 2853 4666 3247 4331 \nQ 3641 3997 3641 3322 \nQ 3641 2881 3436 2590 \nQ 3231 2300 2841 2188 \nz\nM 1259 4147 \nL 1259 2491 \nL 2053 2491 \nQ 2509 2491 2742 2702 \nQ 2975 2913 2975 3322 \nQ 2975 3731 2742 3939 \nQ 2509 4147 2053 4147 \nL 1259 4147 \nz\n\" transform=\"scale(0.015625)\"/>\n        <path id=\"DejaVuSans-65\" d=\"M 3597 1894 \nL 3597 1613 \nL 953 1613 \nQ 991 1019 1311 708 \nQ 1631 397 2203 397 \nQ 2534 397 2845 478 \nQ 3156 559 3463 722 \nL 3463 178 \nQ 3153 47 2828 -22 \nQ 2503 -91 2169 -91 \nQ 1331 -91 842 396 \nQ 353 884 353 1716 \nQ 353 2575 817 3079 \nQ 1281 3584 2069 3584 \nQ 2775 3584 3186 3129 \nQ 3597 2675 3597 1894 \nz\nM 3022 2063 \nQ 3016 2534 2758 2815 \nQ 2500 3097 2075 3097 \nQ 1594 3097 1305 2825 \nQ 1016 2553 972 2059 \nL 3022 2063 \nz\n\" transform=\"scale(0.015625)\"/>\n        <path id=\"DejaVuSans-69\" d=\"M 603 3500 \nL 1178 3500 \nL 1178 0 \nL 603 0 \nL 603 3500 \nz\nM 603 4863 \nL 1178 4863 \nL 1178 4134 \nL 603 4134 \nL 603 4863 \nz\n\" transform=\"scale(0.015625)\"/>\n        <path id=\"DejaVuSans-7a\" d=\"M 353 3500 \nL 3084 3500 \nL 3084 2975 \nL 922 459 \nL 3084 459 \nL 3084 0 \nL 275 0 \nL 275 525 \nL 2438 3041 \nL 353 3041 \nL 353 3500 \nz\n\" transform=\"scale(0.015625)\"/>\n        <path id=\"DejaVuSans-53\" d=\"M 3425 4513 \nL 3425 3897 \nQ 3066 4069 2747 4153 \nQ 2428 4238 2131 4238 \nQ 1616 4238 1336 4038 \nQ 1056 3838 1056 3469 \nQ 1056 3159 1242 3001 \nQ 1428 2844 1947 2747 \nL 2328 2669 \nQ 3034 2534 3370 2195 \nQ 3706 1856 3706 1288 \nQ 3706 609 3251 259 \nQ 2797 -91 1919 -91 \nQ 1588 -91 1214 -16 \nQ 841 59 441 206 \nL 441 856 \nQ 825 641 1194 531 \nQ 1563 422 1919 422 \nQ 2459 422 2753 634 \nQ 3047 847 3047 1241 \nQ 3047 1584 2836 1778 \nQ 2625 1972 2144 2069 \nL 1759 2144 \nQ 1053 2284 737 2584 \nQ 422 2884 422 3419 \nQ 422 4038 858 4394 \nQ 1294 4750 2059 4750 \nQ 2388 4750 2728 4690 \nQ 3069 4631 3425 4513 \nz\n\" transform=\"scale(0.015625)\"/>\n        <path id=\"DejaVuSans-68\" d=\"M 3513 2113 \nL 3513 0 \nL 2938 0 \nL 2938 2094 \nQ 2938 2591 2744 2837 \nQ 2550 3084 2163 3084 \nQ 1697 3084 1428 2787 \nQ 1159 2491 1159 1978 \nL 1159 0 \nL 581 0 \nL 581 4863 \nL 1159 4863 \nL 1159 2956 \nQ 1366 3272 1645 3428 \nQ 1925 3584 2291 3584 \nQ 2894 3584 3203 3211 \nQ 3513 2838 3513 2113 \nz\n\" transform=\"scale(0.015625)\"/>\n        <path id=\"DejaVuSans-61\" d=\"M 2194 1759 \nQ 1497 1759 1228 1600 \nQ 959 1441 959 1056 \nQ 959 750 1161 570 \nQ 1363 391 1709 391 \nQ 2188 391 2477 730 \nQ 2766 1069 2766 1631 \nL 2766 1759 \nL 2194 1759 \nz\nM 3341 1997 \nL 3341 0 \nL 2766 0 \nL 2766 531 \nQ 2569 213 2275 61 \nQ 1981 -91 1556 -91 \nQ 1019 -91 701 211 \nQ 384 513 384 1019 \nQ 384 1609 779 1909 \nQ 1175 2209 1959 2209 \nL 2766 2209 \nL 2766 2266 \nQ 2766 2663 2505 2880 \nQ 2244 3097 1772 3097 \nQ 1472 3097 1187 3025 \nQ 903 2953 641 2809 \nL 641 3341 \nQ 956 3463 1253 3523 \nQ 1550 3584 1831 3584 \nQ 2591 3584 2966 3190 \nQ 3341 2797 3341 1997 \nz\n\" transform=\"scale(0.015625)\"/>\n        <path id=\"DejaVuSans-72\" d=\"M 2631 2963 \nQ 2534 3019 2420 3045 \nQ 2306 3072 2169 3072 \nQ 1681 3072 1420 2755 \nQ 1159 2438 1159 1844 \nL 1159 0 \nL 581 0 \nL 581 3500 \nL 1159 3500 \nL 1159 2956 \nQ 1341 3275 1631 3429 \nQ 1922 3584 2338 3584 \nQ 2397 3584 2469 3576 \nQ 2541 3569 2628 3553 \nL 2631 2963 \nz\n\" transform=\"scale(0.015625)\"/>\n        <path id=\"DejaVuSans-70\" d=\"M 1159 525 \nL 1159 -1331 \nL 581 -1331 \nL 581 3500 \nL 1159 3500 \nL 1159 2969 \nQ 1341 3281 1617 3432 \nQ 1894 3584 2278 3584 \nQ 2916 3584 3314 3078 \nQ 3713 2572 3713 1747 \nQ 3713 922 3314 415 \nQ 2916 -91 2278 -91 \nQ 1894 -91 1617 61 \nQ 1341 213 1159 525 \nz\nM 3116 1747 \nQ 3116 2381 2855 2742 \nQ 2594 3103 2138 3103 \nQ 1681 3103 1420 2742 \nQ 1159 2381 1159 1747 \nQ 1159 1113 1420 752 \nQ 1681 391 2138 391 \nQ 2594 391 2855 752 \nQ 3116 1113 3116 1747 \nz\n\" transform=\"scale(0.015625)\"/>\n        <path id=\"DejaVuSans-6e\" d=\"M 3513 2113 \nL 3513 0 \nL 2938 0 \nL 2938 2094 \nQ 2938 2591 2744 2837 \nQ 2550 3084 2163 3084 \nQ 1697 3084 1428 2787 \nQ 1159 2491 1159 1978 \nL 1159 0 \nL 581 0 \nL 581 3500 \nL 1159 3500 \nL 1159 2956 \nQ 1366 3272 1645 3428 \nQ 1925 3584 2291 3584 \nQ 2894 3584 3203 3211 \nQ 3513 2838 3513 2113 \nz\n\" transform=\"scale(0.015625)\"/>\n        <path id=\"DejaVuSans-67\" d=\"M 2906 1791 \nQ 2906 2416 2648 2759 \nQ 2391 3103 1925 3103 \nQ 1463 3103 1205 2759 \nQ 947 2416 947 1791 \nQ 947 1169 1205 825 \nQ 1463 481 1925 481 \nQ 2391 481 2648 825 \nQ 2906 1169 2906 1791 \nz\nM 3481 434 \nQ 3481 -459 3084 -895 \nQ 2688 -1331 1869 -1331 \nQ 1566 -1331 1297 -1286 \nQ 1028 -1241 775 -1147 \nL 775 -588 \nQ 1028 -725 1275 -790 \nQ 1522 -856 1778 -856 \nQ 2344 -856 2625 -561 \nQ 2906 -266 2906 331 \nL 2906 616 \nQ 2728 306 2450 153 \nQ 2172 0 1784 0 \nQ 1141 0 747 490 \nQ 353 981 353 1791 \nQ 353 2603 747 3093 \nQ 1141 3584 1784 3584 \nQ 2172 3584 2450 3431 \nQ 2728 3278 2906 2969 \nL 2906 3500 \nL 3481 3500 \nL 3481 434 \nz\n\" transform=\"scale(0.015625)\"/>\n       </defs>\n       <use xlink:href=\"#DejaVuSans-50\"/>\n       <use xlink:href=\"#DejaVuSans-6f\" x=\"56.677734\"/>\n       <use xlink:href=\"#DejaVuSans-73\" x=\"117.859375\"/>\n       <use xlink:href=\"#DejaVuSans-74\" x=\"169.958984\"/>\n       <use xlink:href=\"#DejaVuSans-52\" x=\"209.167969\"/>\n       <use xlink:href=\"#DejaVuSans-65\" x=\"274.150391\"/>\n       <use xlink:href=\"#DejaVuSans-73\" x=\"335.673828\"/>\n       <use xlink:href=\"#DejaVuSans-69\" x=\"387.773438\"/>\n       <use xlink:href=\"#DejaVuSans-7a\" x=\"415.556641\"/>\n       <use xlink:href=\"#DejaVuSans-65\" x=\"468.046875\"/>\n       <use xlink:href=\"#DejaVuSans-53\" x=\"529.570312\"/>\n       <use xlink:href=\"#DejaVuSans-68\" x=\"593.046875\"/>\n       <use xlink:href=\"#DejaVuSans-61\" x=\"656.425781\"/>\n       <use xlink:href=\"#DejaVuSans-72\" x=\"717.705078\"/>\n       <use xlink:href=\"#DejaVuSans-70\" x=\"758.818359\"/>\n       <use xlink:href=\"#DejaVuSans-65\" x=\"822.294922\"/>\n       <use xlink:href=\"#DejaVuSans-6e\" x=\"883.818359\"/>\n       <use xlink:href=\"#DejaVuSans-69\" x=\"947.197266\"/>\n       <use xlink:href=\"#DejaVuSans-6e\" x=\"974.980469\"/>\n       <use xlink:href=\"#DejaVuSans-67\" x=\"1038.359375\"/>\n      </g>\n     </g>\n    </g>\n    <g id=\"ytick_2\">\n     <g id=\"line2d_9\">\n      <g>\n       <use xlink:href=\"#me552249f53\" x=\"124.384375\" y=\"133.445407\" style=\"stroke: #000000; stroke-width: 0.8\"/>\n      </g>\n     </g>\n     <g id=\"text_9\">\n      <!-- DownSampling -->\n      <g transform=\"translate(42.242188 137.244626)scale(0.1 -0.1)\">\n       <defs>\n        <path id=\"DejaVuSans-44\" d=\"M 1259 4147 \nL 1259 519 \nL 2022 519 \nQ 2988 519 3436 956 \nQ 3884 1394 3884 2338 \nQ 3884 3275 3436 3711 \nQ 2988 4147 2022 4147 \nL 1259 4147 \nz\nM 628 4666 \nL 1925 4666 \nQ 3281 4666 3915 4102 \nQ 4550 3538 4550 2338 \nQ 4550 1131 3912 565 \nQ 3275 0 1925 0 \nL 628 0 \nL 628 4666 \nz\n\" transform=\"scale(0.015625)\"/>\n        <path id=\"DejaVuSans-77\" d=\"M 269 3500 \nL 844 3500 \nL 1563 769 \nL 2278 3500 \nL 2956 3500 \nL 3675 769 \nL 4391 3500 \nL 4966 3500 \nL 4050 0 \nL 3372 0 \nL 2619 2869 \nL 1863 0 \nL 1184 0 \nL 269 3500 \nz\n\" transform=\"scale(0.015625)\"/>\n        <path id=\"DejaVuSans-6d\" d=\"M 3328 2828 \nQ 3544 3216 3844 3400 \nQ 4144 3584 4550 3584 \nQ 5097 3584 5394 3201 \nQ 5691 2819 5691 2113 \nL 5691 0 \nL 5113 0 \nL 5113 2094 \nQ 5113 2597 4934 2840 \nQ 4756 3084 4391 3084 \nQ 3944 3084 3684 2787 \nQ 3425 2491 3425 1978 \nL 3425 0 \nL 2847 0 \nL 2847 2094 \nQ 2847 2600 2669 2842 \nQ 2491 3084 2119 3084 \nQ 1678 3084 1418 2786 \nQ 1159 2488 1159 1978 \nL 1159 0 \nL 581 0 \nL 581 3500 \nL 1159 3500 \nL 1159 2956 \nQ 1356 3278 1631 3431 \nQ 1906 3584 2284 3584 \nQ 2666 3584 2933 3390 \nQ 3200 3197 3328 2828 \nz\n\" transform=\"scale(0.015625)\"/>\n        <path id=\"DejaVuSans-6c\" d=\"M 603 4863 \nL 1178 4863 \nL 1178 0 \nL 603 0 \nL 603 4863 \nz\n\" transform=\"scale(0.015625)\"/>\n       </defs>\n       <use xlink:href=\"#DejaVuSans-44\"/>\n       <use xlink:href=\"#DejaVuSans-6f\" x=\"77.001953\"/>\n       <use xlink:href=\"#DejaVuSans-77\" x=\"138.183594\"/>\n       <use xlink:href=\"#DejaVuSans-6e\" x=\"219.970703\"/>\n       <use xlink:href=\"#DejaVuSans-53\" x=\"283.349609\"/>\n       <use xlink:href=\"#DejaVuSans-61\" x=\"346.826172\"/>\n       <use xlink:href=\"#DejaVuSans-6d\" x=\"408.105469\"/>\n       <use xlink:href=\"#DejaVuSans-70\" x=\"505.517578\"/>\n       <use xlink:href=\"#DejaVuSans-6c\" x=\"568.994141\"/>\n       <use xlink:href=\"#DejaVuSans-69\" x=\"596.777344\"/>\n       <use xlink:href=\"#DejaVuSans-6e\" x=\"624.560547\"/>\n       <use xlink:href=\"#DejaVuSans-67\" x=\"687.939453\"/>\n      </g>\n     </g>\n    </g>\n    <g id=\"ytick_3\">\n     <g id=\"line2d_10\">\n      <g>\n       <use xlink:href=\"#me552249f53\" x=\"124.384375\" y=\"102.498438\" style=\"stroke: #000000; stroke-width: 0.8\"/>\n      </g>\n     </g>\n     <g id=\"text_10\">\n      <!-- SharpenMicro -->\n      <g transform=\"translate(48.710938 106.297656)scale(0.1 -0.1)\">\n       <defs>\n        <path id=\"DejaVuSans-4d\" d=\"M 628 4666 \nL 1569 4666 \nL 2759 1491 \nL 3956 4666 \nL 4897 4666 \nL 4897 0 \nL 4281 0 \nL 4281 4097 \nL 3078 897 \nL 2444 897 \nL 1241 4097 \nL 1241 0 \nL 628 0 \nL 628 4666 \nz\n\" transform=\"scale(0.015625)\"/>\n        <path id=\"DejaVuSans-63\" d=\"M 3122 3366 \nL 3122 2828 \nQ 2878 2963 2633 3030 \nQ 2388 3097 2138 3097 \nQ 1578 3097 1268 2742 \nQ 959 2388 959 1747 \nQ 959 1106 1268 751 \nQ 1578 397 2138 397 \nQ 2388 397 2633 464 \nQ 2878 531 3122 666 \nL 3122 134 \nQ 2881 22 2623 -34 \nQ 2366 -91 2075 -91 \nQ 1284 -91 818 406 \nQ 353 903 353 1747 \nQ 353 2603 823 3093 \nQ 1294 3584 2113 3584 \nQ 2378 3584 2631 3529 \nQ 2884 3475 3122 3366 \nz\n\" transform=\"scale(0.015625)\"/>\n       </defs>\n       <use xlink:href=\"#DejaVuSans-53\"/>\n       <use xlink:href=\"#DejaVuSans-68\" x=\"63.476562\"/>\n       <use xlink:href=\"#DejaVuSans-61\" x=\"126.855469\"/>\n       <use xlink:href=\"#DejaVuSans-72\" x=\"188.134766\"/>\n       <use xlink:href=\"#DejaVuSans-70\" x=\"229.248047\"/>\n       <use xlink:href=\"#DejaVuSans-65\" x=\"292.724609\"/>\n       <use xlink:href=\"#DejaVuSans-6e\" x=\"354.248047\"/>\n       <use xlink:href=\"#DejaVuSans-4d\" x=\"417.626953\"/>\n       <use xlink:href=\"#DejaVuSans-69\" x=\"503.90625\"/>\n       <use xlink:href=\"#DejaVuSans-63\" x=\"531.689453\"/>\n       <use xlink:href=\"#DejaVuSans-72\" x=\"586.669922\"/>\n       <use xlink:href=\"#DejaVuSans-6f\" x=\"625.533203\"/>\n      </g>\n     </g>\n    </g>\n    <g id=\"ytick_4\">\n     <g id=\"line2d_11\">\n      <g>\n       <use xlink:href=\"#me552249f53\" x=\"124.384375\" y=\"71.551468\" style=\"stroke: #000000; stroke-width: 0.8\"/>\n      </g>\n     </g>\n     <g id=\"text_11\">\n      <!-- Denoising -->\n      <g transform=\"translate(67.623437 75.350687)scale(0.1 -0.1)\">\n       <use xlink:href=\"#DejaVuSans-44\"/>\n       <use xlink:href=\"#DejaVuSans-65\" x=\"77.001953\"/>\n       <use xlink:href=\"#DejaVuSans-6e\" x=\"138.525391\"/>\n       <use xlink:href=\"#DejaVuSans-6f\" x=\"201.904297\"/>\n       <use xlink:href=\"#DejaVuSans-69\" x=\"263.085938\"/>\n       <use xlink:href=\"#DejaVuSans-73\" x=\"290.869141\"/>\n       <use xlink:href=\"#DejaVuSans-69\" x=\"342.96875\"/>\n       <use xlink:href=\"#DejaVuSans-6e\" x=\"370.751953\"/>\n       <use xlink:href=\"#DejaVuSans-67\" x=\"434.130859\"/>\n      </g>\n     </g>\n    </g>\n    <g id=\"ytick_5\">\n     <g id=\"line2d_12\">\n      <g>\n       <use xlink:href=\"#me552249f53\" x=\"124.384375\" y=\"40.604498\" style=\"stroke: #000000; stroke-width: 0.8\"/>\n      </g>\n     </g>\n     <g id=\"text_12\">\n      <!-- Demoisaicking -->\n      <g transform=\"translate(44.025 44.403717)scale(0.1 -0.1)\">\n       <defs>\n        <path id=\"DejaVuSans-6b\" d=\"M 581 4863 \nL 1159 4863 \nL 1159 1991 \nL 2875 3500 \nL 3609 3500 \nL 1753 1863 \nL 3688 0 \nL 2938 0 \nL 1159 1709 \nL 1159 0 \nL 581 0 \nL 581 4863 \nz\n\" transform=\"scale(0.015625)\"/>\n       </defs>\n       <use xlink:href=\"#DejaVuSans-44\"/>\n       <use xlink:href=\"#DejaVuSans-65\" x=\"77.001953\"/>\n       <use xlink:href=\"#DejaVuSans-6d\" x=\"138.525391\"/>\n       <use xlink:href=\"#DejaVuSans-6f\" x=\"235.9375\"/>\n       <use xlink:href=\"#DejaVuSans-69\" x=\"297.119141\"/>\n       <use xlink:href=\"#DejaVuSans-73\" x=\"324.902344\"/>\n       <use xlink:href=\"#DejaVuSans-61\" x=\"377.001953\"/>\n       <use xlink:href=\"#DejaVuSans-69\" x=\"438.28125\"/>\n       <use xlink:href=\"#DejaVuSans-63\" x=\"466.064453\"/>\n       <use xlink:href=\"#DejaVuSans-6b\" x=\"521.044922\"/>\n       <use xlink:href=\"#DejaVuSans-69\" x=\"578.955078\"/>\n       <use xlink:href=\"#DejaVuSans-6e\" x=\"606.738281\"/>\n       <use xlink:href=\"#DejaVuSans-67\" x=\"670.117188\"/>\n      </g>\n     </g>\n    </g>\n    <g id=\"text_13\">\n     <!-- MDI -->\n     <g transform=\"translate(410.310938 92.859375)rotate(-270)scale(0.1 -0.1)\">\n      <defs>\n       <path id=\"DejaVuSans-49\" d=\"M 628 4666 \nL 1259 4666 \nL 1259 0 \nL 628 0 \nL 628 4666 \nz\n\" transform=\"scale(0.015625)\"/>\n      </defs>\n      <use xlink:href=\"#DejaVuSans-4d\"/>\n      <use xlink:href=\"#DejaVuSans-44\" x=\"86.279297\"/>\n      <use xlink:href=\"#DejaVuSans-49\" x=\"163.28125\"/>\n     </g>\n    </g>\n   </g>\n   <g id=\"patch_8\">\n    <path d=\"M 124.384375 184.198438 \nL 124.384375 20.798438 \n\" style=\"fill: none; stroke: #000000; stroke-width: 0.8; stroke-linejoin: miter; stroke-linecap: square\"/>\n   </g>\n   <g id=\"patch_9\">\n    <path d=\"M 367.909375 184.198438 \nL 367.909375 20.798438 \n\" style=\"fill: none; stroke: #000000; stroke-width: 0.8; stroke-linejoin: miter; stroke-linecap: square\"/>\n   </g>\n   <g id=\"patch_10\">\n    <path d=\"M 124.384375 184.198437 \nL 367.909375 184.198437 \n\" style=\"fill: none; stroke: #000000; stroke-width: 0.8; stroke-linejoin: miter; stroke-linecap: square\"/>\n   </g>\n   <g id=\"patch_11\">\n    <path d=\"M 124.384375 20.798438 \nL 367.909375 20.798438 \n\" style=\"fill: none; stroke: #000000; stroke-width: 0.8; stroke-linejoin: miter; stroke-linecap: square\"/>\n   </g>\n   <g id=\"text_14\">\n    <!-- Parameters impact measured with mean decrease in impurity (MDI) -->\n    <g transform=\"translate(76.015625 14.798438)scale(0.1 -0.1)\">\n     <defs>\n      <path id=\"DejaVuSans-20\" transform=\"scale(0.015625)\"/>\n      <path id=\"DejaVuSans-75\" d=\"M 544 1381 \nL 544 3500 \nL 1119 3500 \nL 1119 1403 \nQ 1119 906 1312 657 \nQ 1506 409 1894 409 \nQ 2359 409 2629 706 \nQ 2900 1003 2900 1516 \nL 2900 3500 \nL 3475 3500 \nL 3475 0 \nL 2900 0 \nL 2900 538 \nQ 2691 219 2414 64 \nQ 2138 -91 1772 -91 \nQ 1169 -91 856 284 \nQ 544 659 544 1381 \nz\nM 1991 3584 \nL 1991 3584 \nz\n\" transform=\"scale(0.015625)\"/>\n      <path id=\"DejaVuSans-64\" d=\"M 2906 2969 \nL 2906 4863 \nL 3481 4863 \nL 3481 0 \nL 2906 0 \nL 2906 525 \nQ 2725 213 2448 61 \nQ 2172 -91 1784 -91 \nQ 1150 -91 751 415 \nQ 353 922 353 1747 \nQ 353 2572 751 3078 \nQ 1150 3584 1784 3584 \nQ 2172 3584 2448 3432 \nQ 2725 3281 2906 2969 \nz\nM 947 1747 \nQ 947 1113 1208 752 \nQ 1469 391 1925 391 \nQ 2381 391 2643 752 \nQ 2906 1113 2906 1747 \nQ 2906 2381 2643 2742 \nQ 2381 3103 1925 3103 \nQ 1469 3103 1208 2742 \nQ 947 2381 947 1747 \nz\n\" transform=\"scale(0.015625)\"/>\n      <path id=\"DejaVuSans-79\" d=\"M 2059 -325 \nQ 1816 -950 1584 -1140 \nQ 1353 -1331 966 -1331 \nL 506 -1331 \nL 506 -850 \nL 844 -850 \nQ 1081 -850 1212 -737 \nQ 1344 -625 1503 -206 \nL 1606 56 \nL 191 3500 \nL 800 3500 \nL 1894 763 \nL 2988 3500 \nL 3597 3500 \nL 2059 -325 \nz\n\" transform=\"scale(0.015625)\"/>\n      <path id=\"DejaVuSans-28\" d=\"M 1984 4856 \nQ 1566 4138 1362 3434 \nQ 1159 2731 1159 2009 \nQ 1159 1288 1364 580 \nQ 1569 -128 1984 -844 \nL 1484 -844 \nQ 1016 -109 783 600 \nQ 550 1309 550 2009 \nQ 550 2706 781 3412 \nQ 1013 4119 1484 4856 \nL 1984 4856 \nz\n\" transform=\"scale(0.015625)\"/>\n      <path id=\"DejaVuSans-29\" d=\"M 513 4856 \nL 1013 4856 \nQ 1481 4119 1714 3412 \nQ 1947 2706 1947 2009 \nQ 1947 1309 1714 600 \nQ 1481 -109 1013 -844 \nL 513 -844 \nQ 928 -128 1133 580 \nQ 1338 1288 1338 2009 \nQ 1338 2731 1133 3434 \nQ 928 4138 513 4856 \nz\n\" transform=\"scale(0.015625)\"/>\n     </defs>\n     <use xlink:href=\"#DejaVuSans-50\"/>\n     <use xlink:href=\"#DejaVuSans-61\" x=\"55.802734\"/>\n     <use xlink:href=\"#DejaVuSans-72\" x=\"117.082031\"/>\n     <use xlink:href=\"#DejaVuSans-61\" x=\"158.195312\"/>\n     <use xlink:href=\"#DejaVuSans-6d\" x=\"219.474609\"/>\n     <use xlink:href=\"#DejaVuSans-65\" x=\"316.886719\"/>\n     <use xlink:href=\"#DejaVuSans-74\" x=\"378.410156\"/>\n     <use xlink:href=\"#DejaVuSans-65\" x=\"417.619141\"/>\n     <use xlink:href=\"#DejaVuSans-72\" x=\"479.142578\"/>\n     <use xlink:href=\"#DejaVuSans-73\" x=\"520.255859\"/>\n     <use xlink:href=\"#DejaVuSans-20\" x=\"572.355469\"/>\n     <use xlink:href=\"#DejaVuSans-69\" x=\"604.142578\"/>\n     <use xlink:href=\"#DejaVuSans-6d\" x=\"631.925781\"/>\n     <use xlink:href=\"#DejaVuSans-70\" x=\"729.337891\"/>\n     <use xlink:href=\"#DejaVuSans-61\" x=\"792.814453\"/>\n     <use xlink:href=\"#DejaVuSans-63\" x=\"854.09375\"/>\n     <use xlink:href=\"#DejaVuSans-74\" x=\"909.074219\"/>\n     <use xlink:href=\"#DejaVuSans-20\" x=\"948.283203\"/>\n     <use xlink:href=\"#DejaVuSans-6d\" x=\"980.070312\"/>\n     <use xlink:href=\"#DejaVuSans-65\" x=\"1077.482422\"/>\n     <use xlink:href=\"#DejaVuSans-61\" x=\"1139.005859\"/>\n     <use xlink:href=\"#DejaVuSans-73\" x=\"1200.285156\"/>\n     <use xlink:href=\"#DejaVuSans-75\" x=\"1252.384766\"/>\n     <use xlink:href=\"#DejaVuSans-72\" x=\"1315.763672\"/>\n     <use xlink:href=\"#DejaVuSans-65\" x=\"1354.626953\"/>\n     <use xlink:href=\"#DejaVuSans-64\" x=\"1416.150391\"/>\n     <use xlink:href=\"#DejaVuSans-20\" x=\"1479.626953\"/>\n     <use xlink:href=\"#DejaVuSans-77\" x=\"1511.414062\"/>\n     <use xlink:href=\"#DejaVuSans-69\" x=\"1593.201172\"/>\n     <use xlink:href=\"#DejaVuSans-74\" x=\"1620.984375\"/>\n     <use xlink:href=\"#DejaVuSans-68\" x=\"1660.193359\"/>\n     <use xlink:href=\"#DejaVuSans-20\" x=\"1723.572266\"/>\n     <use xlink:href=\"#DejaVuSans-6d\" x=\"1755.359375\"/>\n     <use xlink:href=\"#DejaVuSans-65\" x=\"1852.771484\"/>\n     <use xlink:href=\"#DejaVuSans-61\" x=\"1914.294922\"/>\n     <use xlink:href=\"#DejaVuSans-6e\" x=\"1975.574219\"/>\n     <use xlink:href=\"#DejaVuSans-20\" x=\"2038.953125\"/>\n     <use xlink:href=\"#DejaVuSans-64\" x=\"2070.740234\"/>\n     <use xlink:href=\"#DejaVuSans-65\" x=\"2134.216797\"/>\n     <use xlink:href=\"#DejaVuSans-63\" x=\"2195.740234\"/>\n     <use xlink:href=\"#DejaVuSans-72\" x=\"2250.720703\"/>\n     <use xlink:href=\"#DejaVuSans-65\" x=\"2289.583984\"/>\n     <use xlink:href=\"#DejaVuSans-61\" x=\"2351.107422\"/>\n     <use xlink:href=\"#DejaVuSans-73\" x=\"2412.386719\"/>\n     <use xlink:href=\"#DejaVuSans-65\" x=\"2464.486328\"/>\n     <use xlink:href=\"#DejaVuSans-20\" x=\"2526.009766\"/>\n     <use xlink:href=\"#DejaVuSans-69\" x=\"2557.796875\"/>\n     <use xlink:href=\"#DejaVuSans-6e\" x=\"2585.580078\"/>\n     <use xlink:href=\"#DejaVuSans-20\" x=\"2648.958984\"/>\n     <use xlink:href=\"#DejaVuSans-69\" x=\"2680.746094\"/>\n     <use xlink:href=\"#DejaVuSans-6d\" x=\"2708.529297\"/>\n     <use xlink:href=\"#DejaVuSans-70\" x=\"2805.941406\"/>\n     <use xlink:href=\"#DejaVuSans-75\" x=\"2869.417969\"/>\n     <use xlink:href=\"#DejaVuSans-72\" x=\"2932.796875\"/>\n     <use xlink:href=\"#DejaVuSans-69\" x=\"2973.910156\"/>\n     <use xlink:href=\"#DejaVuSans-74\" x=\"3001.693359\"/>\n     <use xlink:href=\"#DejaVuSans-79\" x=\"3040.902344\"/>\n     <use xlink:href=\"#DejaVuSans-20\" x=\"3100.082031\"/>\n     <use xlink:href=\"#DejaVuSans-28\" x=\"3131.869141\"/>\n     <use xlink:href=\"#DejaVuSans-4d\" x=\"3170.882812\"/>\n     <use xlink:href=\"#DejaVuSans-44\" x=\"3257.162109\"/>\n     <use xlink:href=\"#DejaVuSans-49\" x=\"3334.164062\"/>\n     <use xlink:href=\"#DejaVuSans-29\" x=\"3363.65625\"/>\n    </g>\n   </g>\n  </g>\n </g>\n <defs>\n  <clipPath id=\"p7588e910af\">\n   <rect x=\"124.384375\" y=\"20.798438\" width=\"243.525\" height=\"163.4\"/>\n  </clipPath>\n </defs>\n</svg>\n",
      "text/plain": [
       "<Figure size 432x216 with 1 Axes>"
      ]
     },
     "metadata": {
      "needs_background": "light"
     },
     "output_type": "display_data"
    }
   ],
   "source": [
    "greedy_covering,current_representatives,current_labels=csm_study.greedy_covering(epsilon=1)\n",
    "parameter_importance(current_labels)"
   ]
  }
 ],
 "metadata": {
  "kernelspec": {
   "display_name": "Python 3.9.7 ('base')",
   "language": "python",
   "name": "python3"
  },
  "language_info": {
   "codemirror_mode": {
    "name": "ipython",
    "version": 3
   },
   "file_extension": ".py",
   "mimetype": "text/x-python",
   "name": "python",
   "nbconvert_exporter": "python",
   "pygments_lexer": "ipython3",
   "version": "3.9.7"
  },
  "vscode": {
   "interpreter": {
    "hash": "e9c45a8958d12a3f70cf98f5769d85b4ec100f2f7542c3fcc45471a3c43e0115"
   }
  }
 },
 "nbformat": 4,
 "nbformat_minor": 5
}
